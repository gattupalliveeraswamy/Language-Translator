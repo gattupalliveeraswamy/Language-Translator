{
 "cells": [
  {
   "cell_type": "markdown",
   "metadata": {},
   "source": [
    "In this notebook we will build three different Encoder-Decoder models for translating french into English. <br>\n",
    "The first model uses a LSTM layer as its encoder, and a LSTM layer as its decoder. The state of the encoder layer is passed to the decoder layer as context. <br>\n",
    "The second model is similar to the first one, but we do not pass the encoder's state to the decoder and instead use an Attention layer. <br>\n",
    "The third model is the same as the second one but we use 4 heads for the Attention layer instead of one. <br>\n",
    "For each model we show translation example and compute the bleu score.\n",
    "\n",
    "This notebook is mostly a rework of this one: https://www.tensorflow.org/text/tutorials/nmt_with_attention. "
   ]
  },
  {
   "cell_type": "markdown",
   "metadata": {},
   "source": [
    "# Data processing"
   ]
  },
  {
   "cell_type": "markdown",
   "metadata": {},
   "source": [
    "For this notebook I used nltk instead of the Textprocessing layer of keras as an exercise."
   ]
  },
  {
   "cell_type": "code",
   "execution_count": 2,
   "metadata": {
    "_cell_guid": "b1076dfc-b9ad-4769-8c92-a6c4dae69d19",
    "_uuid": "8f2839f25d086af736a60e9eeb907d3b93b6e0e5"
   },
   "outputs": [],
   "source": [
    "import numpy as np \n",
    "\n",
    "import pandas as pd \n",
    "\n",
    "import matplotlib.pyplot as plt\n",
    "\n",
    "import random"
   ]
  },
  {
   "cell_type": "code",
   "execution_count": 3,
   "metadata": {},
   "outputs": [],
   "source": [
    "data = pd.read_csv('eng_-french.csv', nrows=None)"
   ]
  },
  {
   "cell_type": "code",
   "execution_count": 4,
   "metadata": {},
   "outputs": [],
   "source": [
    "data = data.dropna()"
   ]
  },
  {
   "cell_type": "code",
   "execution_count": 5,
   "metadata": {},
   "outputs": [],
   "source": [
    "data.columns = ['en', 'fr']"
   ]
  },
  {
   "cell_type": "code",
   "execution_count": 6,
   "metadata": {},
   "outputs": [
    {
     "data": {
      "text/html": [
       "<div>\n",
       "<style scoped>\n",
       "    .dataframe tbody tr th:only-of-type {\n",
       "        vertical-align: middle;\n",
       "    }\n",
       "\n",
       "    .dataframe tbody tr th {\n",
       "        vertical-align: top;\n",
       "    }\n",
       "\n",
       "    .dataframe thead th {\n",
       "        text-align: right;\n",
       "    }\n",
       "</style>\n",
       "<table border=\"1\" class=\"dataframe\">\n",
       "  <thead>\n",
       "    <tr style=\"text-align: right;\">\n",
       "      <th></th>\n",
       "      <th>en</th>\n",
       "      <th>fr</th>\n",
       "    </tr>\n",
       "  </thead>\n",
       "  <tbody>\n",
       "    <tr>\n",
       "      <th>0</th>\n",
       "      <td>Hi.</td>\n",
       "      <td>Salut!</td>\n",
       "    </tr>\n",
       "    <tr>\n",
       "      <th>1</th>\n",
       "      <td>Run!</td>\n",
       "      <td>Cours !</td>\n",
       "    </tr>\n",
       "    <tr>\n",
       "      <th>2</th>\n",
       "      <td>Run!</td>\n",
       "      <td>Courez !</td>\n",
       "    </tr>\n",
       "    <tr>\n",
       "      <th>3</th>\n",
       "      <td>Who?</td>\n",
       "      <td>Qui ?</td>\n",
       "    </tr>\n",
       "    <tr>\n",
       "      <th>4</th>\n",
       "      <td>Wow!</td>\n",
       "      <td>Ça alors !</td>\n",
       "    </tr>\n",
       "  </tbody>\n",
       "</table>\n",
       "</div>"
      ],
      "text/plain": [
       "     en          fr\n",
       "0   Hi.      Salut!\n",
       "1  Run!     Cours !\n",
       "2  Run!    Courez !\n",
       "3  Who?       Qui ?\n",
       "4  Wow!  Ça alors !"
      ]
     },
     "execution_count": 6,
     "metadata": {},
     "output_type": "execute_result"
    }
   ],
   "source": [
    "data.head()"
   ]
  },
  {
   "cell_type": "code",
   "execution_count": 9,
   "metadata": {},
   "outputs": [
    {
     "name": "stdout",
     "output_type": "stream",
     "text": [
      "First 5 rows of the dataset:\n",
      "     en          fr\n",
      "0   Hi.      Salut!\n",
      "1  Run!     Cours !\n",
      "2  Run!    Courez !\n",
      "3  Who?       Qui ?\n",
      "4  Wow!  Ça alors !\n",
      "\n",
      "Last 5 rows of the dataset:\n",
      "                                                       en  \\\n",
      "175616  Top-down economics never works, said Obama. \"T...   \n",
      "175617  A carbon footprint is the amount of carbon dio...   \n",
      "175618  Death is something that we're often discourage...   \n",
      "175619  Since there are usually multiple websites on a...   \n",
      "175620  If someone who doesn't know your background sa...   \n",
      "\n",
      "                                                       fr  \n",
      "175616  « L'économie en partant du haut vers le bas, ç...  \n",
      "175617  Une empreinte carbone est la somme de pollutio...  \n",
      "175618  La mort est une chose qu'on nous décourage sou...  \n",
      "175619  Puisqu'il y a de multiples sites web sur chaqu...  \n",
      "175620  Si quelqu'un qui ne connaît pas vos antécédent...  \n"
     ]
    }
   ],
   "source": [
    "# Display the first 5 rows\n",
    "print(\"First 5 rows of the dataset:\")\n",
    "print(data.head())\n",
    "\n",
    "# Display the last 5 rows\n",
    "print(\"\\nLast 5 rows of the dataset:\")\n",
    "print(data.tail())\n"
   ]
  },
  {
   "cell_type": "code",
   "execution_count": 6,
   "metadata": {
    "execution": {
     "iopub.execute_input": "2024-12-05T20:54:25.863184Z",
     "iopub.status.busy": "2024-12-05T20:54:25.862888Z",
     "iopub.status.idle": "2024-12-05T20:54:25.888549Z",
     "shell.execute_reply": "2024-12-05T20:54:25.887723Z",
     "shell.execute_reply.started": "2024-12-05T20:54:25.863131Z"
    }
   },
   "outputs": [
    {
     "name": "stdout",
     "output_type": "stream",
     "text": [
      "<class 'pandas.core.frame.DataFrame'>\n",
      "RangeIndex: 175621 entries, 0 to 175620\n",
      "Data columns (total 2 columns):\n",
      " #   Column  Non-Null Count   Dtype \n",
      "---  ------  --------------   ----- \n",
      " 0   en      175621 non-null  object\n",
      " 1   fr      175621 non-null  object\n",
      "dtypes: object(2)\n",
      "memory usage: 2.7+ MB\n"
     ]
    }
   ],
   "source": [
    "data.info()"
   ]
  },
  {
   "cell_type": "markdown",
   "metadata": {},
   "source": [
    "As you can see the length of french and english texts varies, which means that a french sentence and its translation could have a different length. <br>\n",
    "We can also see that a mojority of the texts have a length < to 100 words, so we will drop the ones with a superior one. "
   ]
  },
  {
   "cell_type": "code",
   "execution_count": 7,
   "metadata": {
    "execution": {
     "iopub.execute_input": "2024-12-05T20:54:25.892298Z",
     "iopub.status.busy": "2024-12-05T20:54:25.891721Z",
     "iopub.status.idle": "2024-12-05T20:54:26.463646Z",
     "shell.execute_reply": "2024-12-05T20:54:26.462929Z",
     "shell.execute_reply.started": "2024-12-05T20:54:25.892276Z"
    }
   },
   "outputs": [
    {
     "name": "stderr",
     "output_type": "stream",
     "text": [
      "/opt/conda/lib/python3.10/site-packages/scipy/__init__.py:146: UserWarning: A NumPy version >=1.16.5 and <1.23.0 is required for this version of SciPy (detected version 1.24.3\n",
      "  warnings.warn(f\"A NumPy version >={np_minversion} and <{np_maxversion}\"\n"
     ]
    }
   ],
   "source": [
    "from nltk import tokenize\n",
    "import string\n",
    "from unidecode import unidecode"
   ]
  },
  {
   "cell_type": "code",
   "execution_count": 8,
   "metadata": {
    "execution": {
     "iopub.execute_input": "2024-12-05T20:54:26.464815Z",
     "iopub.status.busy": "2024-12-05T20:54:26.464575Z",
     "iopub.status.idle": "2024-12-05T20:54:32.167796Z",
     "shell.execute_reply": "2024-12-05T20:54:32.166903Z",
     "shell.execute_reply.started": "2024-12-05T20:54:26.464794Z"
    }
   },
   "outputs": [
    {
     "data": {
      "text/html": [
       "<div>\n",
       "<style scoped>\n",
       "    .dataframe tbody tr th:only-of-type {\n",
       "        vertical-align: middle;\n",
       "    }\n",
       "\n",
       "    .dataframe tbody tr th {\n",
       "        vertical-align: top;\n",
       "    }\n",
       "\n",
       "    .dataframe thead th {\n",
       "        text-align: right;\n",
       "    }\n",
       "</style>\n",
       "<table border=\"1\" class=\"dataframe\">\n",
       "  <thead>\n",
       "    <tr style=\"text-align: right;\">\n",
       "      <th></th>\n",
       "      <th>en</th>\n",
       "      <th>fr</th>\n",
       "    </tr>\n",
       "  </thead>\n",
       "  <tbody>\n",
       "    <tr>\n",
       "      <th>count</th>\n",
       "      <td>175621.000000</td>\n",
       "      <td>175621.000000</td>\n",
       "    </tr>\n",
       "    <tr>\n",
       "      <th>mean</th>\n",
       "      <td>1.009281</td>\n",
       "      <td>1.010039</td>\n",
       "    </tr>\n",
       "    <tr>\n",
       "      <th>std</th>\n",
       "      <td>0.098643</td>\n",
       "      <td>0.113824</td>\n",
       "    </tr>\n",
       "    <tr>\n",
       "      <th>min</th>\n",
       "      <td>1.000000</td>\n",
       "      <td>1.000000</td>\n",
       "    </tr>\n",
       "    <tr>\n",
       "      <th>25%</th>\n",
       "      <td>1.000000</td>\n",
       "      <td>1.000000</td>\n",
       "    </tr>\n",
       "    <tr>\n",
       "      <th>50%</th>\n",
       "      <td>1.000000</td>\n",
       "      <td>1.000000</td>\n",
       "    </tr>\n",
       "    <tr>\n",
       "      <th>75%</th>\n",
       "      <td>1.000000</td>\n",
       "      <td>1.000000</td>\n",
       "    </tr>\n",
       "    <tr>\n",
       "      <th>max</th>\n",
       "      <td>4.000000</td>\n",
       "      <td>5.000000</td>\n",
       "    </tr>\n",
       "  </tbody>\n",
       "</table>\n",
       "</div>"
      ],
      "text/plain": [
       "                  en             fr\n",
       "count  175621.000000  175621.000000\n",
       "mean        1.009281       1.010039\n",
       "std         0.098643       0.113824\n",
       "min         1.000000       1.000000\n",
       "25%         1.000000       1.000000\n",
       "50%         1.000000       1.000000\n",
       "75%         1.000000       1.000000\n",
       "max         4.000000       5.000000"
      ]
     },
     "execution_count": 8,
     "metadata": {},
     "output_type": "execute_result"
    }
   ],
   "source": [
    "data.map(lambda x: len(tokenize.sent_tokenize(x))).describe()"
   ]
  },
  {
   "cell_type": "markdown",
   "metadata": {},
   "source": [
    "The vast majority of the dataset is only one sentence long."
   ]
  },
  {
   "cell_type": "code",
   "execution_count": 9,
   "metadata": {
    "execution": {
     "iopub.execute_input": "2024-12-05T20:54:32.169433Z",
     "iopub.status.busy": "2024-12-05T20:54:32.169055Z",
     "iopub.status.idle": "2024-12-05T20:54:32.258313Z",
     "shell.execute_reply": "2024-12-05T20:54:32.257454Z",
     "shell.execute_reply.started": "2024-12-05T20:54:32.169401Z"
    }
   },
   "outputs": [
    {
     "data": {
      "text/plain": [
       "['\\n',\n",
       " ' ',\n",
       " '!',\n",
       " '\"',\n",
       " '$',\n",
       " '%',\n",
       " '&',\n",
       " \"'\",\n",
       " '(',\n",
       " ')',\n",
       " '+',\n",
       " ',',\n",
       " '-',\n",
       " '.',\n",
       " '/',\n",
       " '0',\n",
       " '1',\n",
       " '2',\n",
       " '3',\n",
       " '4',\n",
       " '5',\n",
       " '6',\n",
       " '7',\n",
       " '8',\n",
       " '9',\n",
       " ':',\n",
       " ';',\n",
       " '?',\n",
       " 'A',\n",
       " 'B',\n",
       " 'C',\n",
       " 'D',\n",
       " 'E',\n",
       " 'F',\n",
       " 'G',\n",
       " 'H',\n",
       " 'I',\n",
       " 'J',\n",
       " 'K',\n",
       " 'L',\n",
       " 'M',\n",
       " 'N',\n",
       " 'O',\n",
       " 'P',\n",
       " 'Q',\n",
       " 'R',\n",
       " 'S',\n",
       " 'T',\n",
       " 'U',\n",
       " 'V',\n",
       " 'W',\n",
       " 'X',\n",
       " 'Y',\n",
       " 'Z',\n",
       " 'a',\n",
       " 'b',\n",
       " 'c',\n",
       " 'd',\n",
       " 'e',\n",
       " 'f',\n",
       " 'g',\n",
       " 'h',\n",
       " 'i',\n",
       " 'j',\n",
       " 'k',\n",
       " 'l',\n",
       " 'm',\n",
       " 'n',\n",
       " 'o',\n",
       " 'p',\n",
       " 'q',\n",
       " 'r',\n",
       " 's',\n",
       " 't',\n",
       " 'u',\n",
       " 'v',\n",
       " 'w',\n",
       " 'x',\n",
       " 'y',\n",
       " 'z',\n",
       " '\\xa0',\n",
       " '«',\n",
       " '»',\n",
       " 'À',\n",
       " 'Â',\n",
       " 'Ç',\n",
       " 'É',\n",
       " 'Ê',\n",
       " 'Ô',\n",
       " 'à',\n",
       " 'á',\n",
       " 'â',\n",
       " 'ç',\n",
       " 'è',\n",
       " 'é',\n",
       " 'ê',\n",
       " 'ë',\n",
       " 'î',\n",
       " 'ï',\n",
       " 'ô',\n",
       " 'ö',\n",
       " 'ù',\n",
       " 'û',\n",
       " 'œ',\n",
       " 'С',\n",
       " '\\u2009',\n",
       " '\\u200b',\n",
       " '–',\n",
       " '‘',\n",
       " '’',\n",
       " '…',\n",
       " '\\u202f',\n",
       " '‽',\n",
       " '₂']"
      ]
     },
     "execution_count": 9,
     "metadata": {},
     "output_type": "execute_result"
    }
   ],
   "source": [
    "data_fr = '\\n'.join(data['fr'].tolist())\n",
    "chars_fr = sorted(list(set(data_fr)))\n",
    "chars_fr"
   ]
  },
  {
   "cell_type": "code",
   "execution_count": 10,
   "metadata": {
    "execution": {
     "iopub.execute_input": "2024-12-05T20:54:32.259574Z",
     "iopub.status.busy": "2024-12-05T20:54:32.259240Z",
     "iopub.status.idle": "2024-12-05T20:54:32.341043Z",
     "shell.execute_reply": "2024-12-05T20:54:32.340018Z",
     "shell.execute_reply.started": "2024-12-05T20:54:32.259544Z"
    }
   },
   "outputs": [
    {
     "data": {
      "text/plain": [
       "['\\n',\n",
       " ' ',\n",
       " '!',\n",
       " '\"',\n",
       " '$',\n",
       " '%',\n",
       " '&',\n",
       " \"'\",\n",
       " '+',\n",
       " ',',\n",
       " '-',\n",
       " '.',\n",
       " '/',\n",
       " '0',\n",
       " '1',\n",
       " '2',\n",
       " '3',\n",
       " '4',\n",
       " '5',\n",
       " '6',\n",
       " '7',\n",
       " '8',\n",
       " '9',\n",
       " ':',\n",
       " ';',\n",
       " '?',\n",
       " 'A',\n",
       " 'B',\n",
       " 'C',\n",
       " 'D',\n",
       " 'E',\n",
       " 'F',\n",
       " 'G',\n",
       " 'H',\n",
       " 'I',\n",
       " 'J',\n",
       " 'K',\n",
       " 'L',\n",
       " 'M',\n",
       " 'N',\n",
       " 'O',\n",
       " 'P',\n",
       " 'Q',\n",
       " 'R',\n",
       " 'S',\n",
       " 'T',\n",
       " 'U',\n",
       " 'V',\n",
       " 'W',\n",
       " 'X',\n",
       " 'Y',\n",
       " 'Z',\n",
       " 'a',\n",
       " 'b',\n",
       " 'c',\n",
       " 'd',\n",
       " 'e',\n",
       " 'f',\n",
       " 'g',\n",
       " 'h',\n",
       " 'i',\n",
       " 'j',\n",
       " 'k',\n",
       " 'l',\n",
       " 'm',\n",
       " 'n',\n",
       " 'o',\n",
       " 'p',\n",
       " 'q',\n",
       " 'r',\n",
       " 's',\n",
       " 't',\n",
       " 'u',\n",
       " 'v',\n",
       " 'w',\n",
       " 'x',\n",
       " 'y',\n",
       " 'z',\n",
       " '\\xa0',\n",
       " '\\xad',\n",
       " 'º',\n",
       " 'ç',\n",
       " 'é',\n",
       " 'ö',\n",
       " 'ú',\n",
       " 'а',\n",
       " '–',\n",
       " '—',\n",
       " '‘',\n",
       " '’',\n",
       " '₂',\n",
       " '€']"
      ]
     },
     "execution_count": 10,
     "metadata": {},
     "output_type": "execute_result"
    }
   ],
   "source": [
    "data_en = '\\n'.join(data['en'].tolist())\n",
    "chars_en = sorted(list(set(data_en)))\n",
    "chars_en"
   ]
  },
  {
   "cell_type": "markdown",
   "metadata": {},
   "source": [
    "In the lists of characters for English and French sentences we can see that we need to clean some of them."
   ]
  },
  {
   "cell_type": "code",
   "execution_count": 11,
   "metadata": {
    "execution": {
     "iopub.execute_input": "2024-12-05T20:54:32.342847Z",
     "iopub.status.busy": "2024-12-05T20:54:32.342494Z",
     "iopub.status.idle": "2024-12-05T20:54:32.354983Z",
     "shell.execute_reply": "2024-12-05T20:54:32.354140Z",
     "shell.execute_reply.started": "2024-12-05T20:54:32.342816Z"
    }
   },
   "outputs": [],
   "source": [
    "#Max features is the number of words, I did not set a limit for this notebook.\n",
    "#The start, end, and unk token are important for the text processing and the fitting of the model.\n",
    "max_features = None\n",
    "start_token = '<START>'\n",
    "end_token = '<END>'\n",
    "unk_token = '<UNK>'\n",
    "pad_token = '<PAD>'"
   ]
  },
  {
   "cell_type": "code",
   "execution_count": 12,
   "metadata": {
    "execution": {
     "iopub.execute_input": "2024-12-05T20:54:32.356539Z",
     "iopub.status.busy": "2024-12-05T20:54:32.356208Z",
     "iopub.status.idle": "2024-12-05T20:54:32.370188Z",
     "shell.execute_reply": "2024-12-05T20:54:32.369375Z",
     "shell.execute_reply.started": "2024-12-05T20:54:32.356510Z"
    }
   },
   "outputs": [],
   "source": [
    "def clean_text(texts, star_token=start_token, end_token=end_token):\n",
    "    texts = texts.lower() #convert uppercase to lowercase\n",
    "    texts = unidecode(texts, errors='ignore') #convert accented letters into unaccented letters. Ignore unknown characters.\n",
    "    texts = ''.join((char if char in (string.punctuation + string.ascii_lowercase) else ' ' for char in texts)) #keep the selected letters and punctuation.\n",
    "    \n",
    "    return texts"
   ]
  },
  {
   "cell_type": "code",
   "execution_count": 13,
   "metadata": {
    "execution": {
     "iopub.execute_input": "2024-12-05T20:54:32.371849Z",
     "iopub.status.busy": "2024-12-05T20:54:32.371498Z",
     "iopub.status.idle": "2024-12-05T20:54:37.173600Z",
     "shell.execute_reply": "2024-12-05T20:54:37.172905Z",
     "shell.execute_reply.started": "2024-12-05T20:54:32.371819Z"
    }
   },
   "outputs": [],
   "source": [
    "data[['en_clean', 'fr_clean']] = data.map(clean_text)"
   ]
  },
  {
   "cell_type": "markdown",
   "metadata": {},
   "source": [
    "Now we can look at the cleaned list of characters in the dataset."
   ]
  },
  {
   "cell_type": "code",
   "execution_count": 14,
   "metadata": {
    "execution": {
     "iopub.execute_input": "2024-12-05T20:54:37.175193Z",
     "iopub.status.busy": "2024-12-05T20:54:37.174813Z",
     "iopub.status.idle": "2024-12-05T20:54:37.245324Z",
     "shell.execute_reply": "2024-12-05T20:54:37.244298Z",
     "shell.execute_reply.started": "2024-12-05T20:54:37.175141Z"
    }
   },
   "outputs": [
    {
     "data": {
      "text/plain": [
       "['\\n',\n",
       " ' ',\n",
       " '!',\n",
       " '\"',\n",
       " '$',\n",
       " '%',\n",
       " '&',\n",
       " \"'\",\n",
       " '+',\n",
       " ',',\n",
       " '-',\n",
       " '.',\n",
       " '/',\n",
       " ':',\n",
       " ';',\n",
       " '?',\n",
       " 'a',\n",
       " 'b',\n",
       " 'c',\n",
       " 'd',\n",
       " 'e',\n",
       " 'f',\n",
       " 'g',\n",
       " 'h',\n",
       " 'i',\n",
       " 'j',\n",
       " 'k',\n",
       " 'l',\n",
       " 'm',\n",
       " 'n',\n",
       " 'o',\n",
       " 'p',\n",
       " 'q',\n",
       " 'r',\n",
       " 's',\n",
       " 't',\n",
       " 'u',\n",
       " 'v',\n",
       " 'w',\n",
       " 'x',\n",
       " 'y',\n",
       " 'z']"
      ]
     },
     "execution_count": 14,
     "metadata": {},
     "output_type": "execute_result"
    }
   ],
   "source": [
    "data_en = '\\n'.join(data['en_clean'].tolist())\n",
    "chars_en = sorted(list(set(data_en)))\n",
    "chars_en"
   ]
  },
  {
   "cell_type": "code",
   "execution_count": 15,
   "metadata": {
    "execution": {
     "iopub.execute_input": "2024-12-05T20:54:37.246648Z",
     "iopub.status.busy": "2024-12-05T20:54:37.246414Z",
     "iopub.status.idle": "2024-12-05T20:54:37.355190Z",
     "shell.execute_reply": "2024-12-05T20:54:37.354389Z",
     "shell.execute_reply.started": "2024-12-05T20:54:37.246622Z"
    }
   },
   "outputs": [
    {
     "data": {
      "text/plain": [
       "['\\n',\n",
       " ' ',\n",
       " '!',\n",
       " '\"',\n",
       " '$',\n",
       " '%',\n",
       " '&',\n",
       " \"'\",\n",
       " '(',\n",
       " ')',\n",
       " '+',\n",
       " ',',\n",
       " '-',\n",
       " '.',\n",
       " '/',\n",
       " ':',\n",
       " ';',\n",
       " '<',\n",
       " '>',\n",
       " '?',\n",
       " 'a',\n",
       " 'b',\n",
       " 'c',\n",
       " 'd',\n",
       " 'e',\n",
       " 'f',\n",
       " 'g',\n",
       " 'h',\n",
       " 'i',\n",
       " 'j',\n",
       " 'k',\n",
       " 'l',\n",
       " 'm',\n",
       " 'n',\n",
       " 'o',\n",
       " 'p',\n",
       " 'q',\n",
       " 'r',\n",
       " 's',\n",
       " 't',\n",
       " 'u',\n",
       " 'v',\n",
       " 'w',\n",
       " 'x',\n",
       " 'y',\n",
       " 'z']"
      ]
     },
     "execution_count": 15,
     "metadata": {},
     "output_type": "execute_result"
    }
   ],
   "source": [
    "data_fr = '\\n'.join(data['fr_clean'].tolist())\n",
    "chars_fr = sorted(list(set(data_fr)))\n",
    "chars_fr"
   ]
  },
  {
   "cell_type": "code",
   "execution_count": 16,
   "metadata": {
    "execution": {
     "iopub.execute_input": "2024-12-05T20:54:37.356435Z",
     "iopub.status.busy": "2024-12-05T20:54:37.356204Z",
     "iopub.status.idle": "2024-12-05T20:54:37.370967Z",
     "shell.execute_reply": "2024-12-05T20:54:37.370345Z",
     "shell.execute_reply.started": "2024-12-05T20:54:37.356416Z"
    }
   },
   "outputs": [
    {
     "data": {
      "text/html": [
       "<div>\n",
       "<style scoped>\n",
       "    .dataframe tbody tr th:only-of-type {\n",
       "        vertical-align: middle;\n",
       "    }\n",
       "\n",
       "    .dataframe tbody tr th {\n",
       "        vertical-align: top;\n",
       "    }\n",
       "\n",
       "    .dataframe thead th {\n",
       "        text-align: right;\n",
       "    }\n",
       "</style>\n",
       "<table border=\"1\" class=\"dataframe\">\n",
       "  <thead>\n",
       "    <tr style=\"text-align: right;\">\n",
       "      <th></th>\n",
       "      <th>en</th>\n",
       "      <th>fr</th>\n",
       "      <th>en_clean</th>\n",
       "      <th>fr_clean</th>\n",
       "    </tr>\n",
       "  </thead>\n",
       "  <tbody>\n",
       "    <tr>\n",
       "      <th>0</th>\n",
       "      <td>Hi.</td>\n",
       "      <td>Salut!</td>\n",
       "      <td>hi.</td>\n",
       "      <td>salut!</td>\n",
       "    </tr>\n",
       "    <tr>\n",
       "      <th>1</th>\n",
       "      <td>Run!</td>\n",
       "      <td>Cours !</td>\n",
       "      <td>run!</td>\n",
       "      <td>cours !</td>\n",
       "    </tr>\n",
       "    <tr>\n",
       "      <th>2</th>\n",
       "      <td>Run!</td>\n",
       "      <td>Courez !</td>\n",
       "      <td>run!</td>\n",
       "      <td>courez !</td>\n",
       "    </tr>\n",
       "    <tr>\n",
       "      <th>3</th>\n",
       "      <td>Who?</td>\n",
       "      <td>Qui ?</td>\n",
       "      <td>who?</td>\n",
       "      <td>qui ?</td>\n",
       "    </tr>\n",
       "    <tr>\n",
       "      <th>4</th>\n",
       "      <td>Wow!</td>\n",
       "      <td>Ça alors !</td>\n",
       "      <td>wow!</td>\n",
       "      <td>ca alors !</td>\n",
       "    </tr>\n",
       "    <tr>\n",
       "      <th>...</th>\n",
       "      <td>...</td>\n",
       "      <td>...</td>\n",
       "      <td>...</td>\n",
       "      <td>...</td>\n",
       "    </tr>\n",
       "    <tr>\n",
       "      <th>175616</th>\n",
       "      <td>Top-down economics never works, said Obama. \"T...</td>\n",
       "      <td>« L'économie en partant du haut vers le bas, ç...</td>\n",
       "      <td>top-down economics never works, said obama. \"t...</td>\n",
       "      <td>&lt;&lt; l'economie en partant du haut vers le bas, ...</td>\n",
       "    </tr>\n",
       "    <tr>\n",
       "      <th>175617</th>\n",
       "      <td>A carbon footprint is the amount of carbon dio...</td>\n",
       "      <td>Une empreinte carbone est la somme de pollutio...</td>\n",
       "      <td>a carbon footprint is the amount of carbon dio...</td>\n",
       "      <td>une empreinte carbone est la somme de pollutio...</td>\n",
       "    </tr>\n",
       "    <tr>\n",
       "      <th>175618</th>\n",
       "      <td>Death is something that we're often discourage...</td>\n",
       "      <td>La mort est une chose qu'on nous décourage sou...</td>\n",
       "      <td>death is something that we're often discourage...</td>\n",
       "      <td>la mort est une chose qu'on nous decourage sou...</td>\n",
       "    </tr>\n",
       "    <tr>\n",
       "      <th>175619</th>\n",
       "      <td>Since there are usually multiple websites on a...</td>\n",
       "      <td>Puisqu'il y a de multiples sites web sur chaqu...</td>\n",
       "      <td>since there are usually multiple websites on a...</td>\n",
       "      <td>puisqu'il y a de multiples sites web sur chaqu...</td>\n",
       "    </tr>\n",
       "    <tr>\n",
       "      <th>175620</th>\n",
       "      <td>If someone who doesn't know your background sa...</td>\n",
       "      <td>Si quelqu'un qui ne connaît pas vos antécédent...</td>\n",
       "      <td>if someone who doesn't know your background sa...</td>\n",
       "      <td>si quelqu'un qui ne connait pas vos antecedent...</td>\n",
       "    </tr>\n",
       "  </tbody>\n",
       "</table>\n",
       "<p>175621 rows × 4 columns</p>\n",
       "</div>"
      ],
      "text/plain": [
       "                                                       en  \\\n",
       "0                                                     Hi.   \n",
       "1                                                    Run!   \n",
       "2                                                    Run!   \n",
       "3                                                    Who?   \n",
       "4                                                    Wow!   \n",
       "...                                                   ...   \n",
       "175616  Top-down economics never works, said Obama. \"T...   \n",
       "175617  A carbon footprint is the amount of carbon dio...   \n",
       "175618  Death is something that we're often discourage...   \n",
       "175619  Since there are usually multiple websites on a...   \n",
       "175620  If someone who doesn't know your background sa...   \n",
       "\n",
       "                                                       fr  \\\n",
       "0                                                  Salut!   \n",
       "1                                                 Cours !   \n",
       "2                                                Courez !   \n",
       "3                                                   Qui ?   \n",
       "4                                              Ça alors !   \n",
       "...                                                   ...   \n",
       "175616  « L'économie en partant du haut vers le bas, ç...   \n",
       "175617  Une empreinte carbone est la somme de pollutio...   \n",
       "175618  La mort est une chose qu'on nous décourage sou...   \n",
       "175619  Puisqu'il y a de multiples sites web sur chaqu...   \n",
       "175620  Si quelqu'un qui ne connaît pas vos antécédent...   \n",
       "\n",
       "                                                 en_clean  \\\n",
       "0                                                     hi.   \n",
       "1                                                    run!   \n",
       "2                                                    run!   \n",
       "3                                                    who?   \n",
       "4                                                    wow!   \n",
       "...                                                   ...   \n",
       "175616  top-down economics never works, said obama. \"t...   \n",
       "175617  a carbon footprint is the amount of carbon dio...   \n",
       "175618  death is something that we're often discourage...   \n",
       "175619  since there are usually multiple websites on a...   \n",
       "175620  if someone who doesn't know your background sa...   \n",
       "\n",
       "                                                 fr_clean  \n",
       "0                                                  salut!  \n",
       "1                                                 cours !  \n",
       "2                                                courez !  \n",
       "3                                                   qui ?  \n",
       "4                                              ca alors !  \n",
       "...                                                   ...  \n",
       "175616  << l'economie en partant du haut vers le bas, ...  \n",
       "175617  une empreinte carbone est la somme de pollutio...  \n",
       "175618  la mort est une chose qu'on nous decourage sou...  \n",
       "175619  puisqu'il y a de multiples sites web sur chaqu...  \n",
       "175620  si quelqu'un qui ne connait pas vos antecedent...  \n",
       "\n",
       "[175621 rows x 4 columns]"
      ]
     },
     "execution_count": 16,
     "metadata": {},
     "output_type": "execute_result"
    }
   ],
   "source": [
    "data"
   ]
  },
  {
   "cell_type": "code",
   "execution_count": 17,
   "metadata": {
    "execution": {
     "iopub.execute_input": "2024-12-05T20:54:37.372465Z",
     "iopub.status.busy": "2024-12-05T20:54:37.372145Z",
     "iopub.status.idle": "2024-12-05T20:54:37.384009Z",
     "shell.execute_reply": "2024-12-05T20:54:37.383204Z",
     "shell.execute_reply.started": "2024-12-05T20:54:37.372445Z"
    }
   },
   "outputs": [],
   "source": [
    "sent_clean_fr = data['fr_clean'].tolist()\n",
    "sent_clean_en = data['en_clean'].tolist()"
   ]
  },
  {
   "cell_type": "markdown",
   "metadata": {},
   "source": [
    "We want to translate these sentences using a seq2seq model of tokenize words. So we need to tokenize the sentences of our dataset, build a dictionary from the tokenized words, and translate each sentences into a list of ids (each id corresponding to one word in the dictionary)."
   ]
  },
  {
   "cell_type": "code",
   "execution_count": 18,
   "metadata": {
    "execution": {
     "iopub.execute_input": "2024-12-05T20:54:37.385119Z",
     "iopub.status.busy": "2024-12-05T20:54:37.384910Z",
     "iopub.status.idle": "2024-12-05T20:54:37.395655Z",
     "shell.execute_reply": "2024-12-05T20:54:37.394892Z",
     "shell.execute_reply.started": "2024-12-05T20:54:37.385102Z"
    }
   },
   "outputs": [],
   "source": [
    "from collections import Counter"
   ]
  },
  {
   "cell_type": "markdown",
   "metadata": {},
   "source": [
    "I built a class for Tokenizing the sentences. You need to, first, fit the class to your dataset using fit(), by doing this a dictionnary will be build using the \"max_tokens\" most commom words. Second, you need to call the tokenizer to create a dataset of sentences with words tokens and ids tokens. <br>\n",
    "Also, we add start_token at the start of each tokenized sentences, and end_token at their end (if a word is not inside the dictionnary of words, the unk_token is added)."
   ]
  },
  {
   "cell_type": "code",
   "execution_count": 19,
   "metadata": {
    "execution": {
     "iopub.execute_input": "2024-12-05T20:54:37.397036Z",
     "iopub.status.busy": "2024-12-05T20:54:37.396809Z",
     "iopub.status.idle": "2024-12-05T20:54:37.410492Z",
     "shell.execute_reply": "2024-12-05T20:54:37.409557Z",
     "shell.execute_reply.started": "2024-12-05T20:54:37.397017Z"
    }
   },
   "outputs": [],
   "source": [
    "class Tokenize():\n",
    "    def __init__(self, word_vocab=None, max_tokens=None, start_token='<START>', end_token='<END>', unk_token='<UNK>', pad_token='<PAD>'):\n",
    "        self.max_tokens = max_tokens\n",
    "        self.start_token = start_token\n",
    "        self.end_token = end_token\n",
    "        self.unk_token = unk_token\n",
    "        self.pad_token = pad_token\n",
    "        self.word_vocab = word_vocab\n",
    "        if self.word_vocab:\n",
    "            self.word_vocab = [self.pad_token, self.start_token, self.end_token, self.unk_token] + [word for word,count in word_count.most_common(max_tokens)]\n",
    "            self.word_to_idx = {w:i for i,w in enumerate(self.word_vocab)}\n",
    "            self.idx_to_word = {i:w for i,w in enumerate(self.word_vocab)}\n",
    "            self.len_vocab = len(self.word_vocab)\n",
    "    \n",
    "    def fit(self, texts):\n",
    "        \n",
    "        if type(texts) == str: texts = [texts]\n",
    "        \n",
    "        word_count = Counter(tokenize.word_tokenize(' '.join(texts)))\n",
    "        \n",
    "        if self.max_tokens: \n",
    "            max_tokens = self.max_tokens -  3\n",
    "        else:\n",
    "            max_tokens = self.max_tokens\n",
    "            \n",
    "        self.word_vocab = [self.pad_token, self.start_token, self.end_token, self.unk_token] + [word for word,count in word_count.most_common(max_tokens)]\n",
    "        self.word_to_idx = {w:i for i,w in enumerate(self.word_vocab)}\n",
    "        self.idx_to_word = {i:w for i,w in enumerate(self.word_vocab)}\n",
    "        self.len_vocab = len(self.word_vocab)\n",
    "    \n",
    "    def __call__(self, texts):\n",
    "        if type(texts) == str: texts = [texts]\n",
    "        texts_token = [[self.start_token] + tokenize.word_tokenize(text) + [self.end_token] for text in texts]\n",
    "        texts_token_id = [[self.word_to_idx.get(word, self.word_to_idx[self.unk_token]) for word in sent] for sent in texts_token]\n",
    "        \n",
    "        return texts_token, texts_token_id\n",
    "        "
   ]
  },
  {
   "cell_type": "markdown",
   "metadata": {},
   "source": [
    "We split the dataset into train and validation sets. The tokenizers are fitted only on the train sets."
   ]
  },
  {
   "cell_type": "code",
   "execution_count": 20,
   "metadata": {
    "execution": {
     "iopub.execute_input": "2024-12-05T20:54:37.411849Z",
     "iopub.status.busy": "2024-12-05T20:54:37.411579Z",
     "iopub.status.idle": "2024-12-05T20:54:37.488125Z",
     "shell.execute_reply": "2024-12-05T20:54:37.487314Z",
     "shell.execute_reply.started": "2024-12-05T20:54:37.411827Z"
    }
   },
   "outputs": [],
   "source": [
    "from sklearn.model_selection import train_test_split\n",
    "\n",
    "sent_clean_fr_train,sent_clean_fr_valid,sent_clean_en_train,sent_clean_en_valid=train_test_split(sent_clean_fr,sent_clean_en,test_size=0.2,random_state=0)"
   ]
  },
  {
   "cell_type": "markdown",
   "metadata": {},
   "source": [
    "The french tokenizer."
   ]
  },
  {
   "cell_type": "code",
   "execution_count": 21,
   "metadata": {
    "execution": {
     "iopub.execute_input": "2024-12-05T20:54:37.489391Z",
     "iopub.status.busy": "2024-12-05T20:54:37.489117Z",
     "iopub.status.idle": "2024-12-05T20:55:02.350026Z",
     "shell.execute_reply": "2024-12-05T20:55:02.349349Z",
     "shell.execute_reply.started": "2024-12-05T20:54:37.489370Z"
    }
   },
   "outputs": [],
   "source": [
    "tokenize_fr = Tokenize()\n",
    "tokenize_fr.fit(sent_clean_fr_train)\n",
    "train_token_fr, train_id_fr = tokenize_fr(sent_clean_fr_train)\n",
    "valid_token_fr, valid_id_fr = tokenize_fr(sent_clean_fr_valid)"
   ]
  },
  {
   "cell_type": "markdown",
   "metadata": {},
   "source": [
    "The english tokenizer."
   ]
  },
  {
   "cell_type": "code",
   "execution_count": 22,
   "metadata": {
    "execution": {
     "iopub.execute_input": "2024-12-05T20:55:02.355938Z",
     "iopub.status.busy": "2024-12-05T20:55:02.355616Z",
     "iopub.status.idle": "2024-12-05T20:55:26.592833Z",
     "shell.execute_reply": "2024-12-05T20:55:26.592131Z",
     "shell.execute_reply.started": "2024-12-05T20:55:02.355918Z"
    }
   },
   "outputs": [],
   "source": [
    "tokenize_en = Tokenize()\n",
    "tokenize_en.fit(sent_clean_en_train)\n",
    "train_token_en, train_id_en = tokenize_en(sent_clean_en_train)\n",
    "valid_token_en, valid_id_en = tokenize_en(sent_clean_en_valid)"
   ]
  },
  {
   "cell_type": "code",
   "execution_count": 23,
   "metadata": {
    "execution": {
     "iopub.execute_input": "2024-12-05T20:55:26.594358Z",
     "iopub.status.busy": "2024-12-05T20:55:26.593998Z",
     "iopub.status.idle": "2024-12-05T20:55:26.607325Z",
     "shell.execute_reply": "2024-12-05T20:55:26.606579Z",
     "shell.execute_reply.started": "2024-12-05T20:55:26.594326Z"
    }
   },
   "outputs": [
    {
     "data": {
      "text/plain": [
       "54"
      ]
     },
     "execution_count": 23,
     "metadata": {},
     "output_type": "execute_result"
    }
   ],
   "source": [
    "max_len_fr = max((len(text) for text in valid_token_fr))\n",
    "max_len_fr"
   ]
  },
  {
   "cell_type": "code",
   "execution_count": 24,
   "metadata": {
    "execution": {
     "iopub.execute_input": "2024-12-05T20:55:26.608686Z",
     "iopub.status.busy": "2024-12-05T20:55:26.608471Z",
     "iopub.status.idle": "2024-12-05T20:55:26.625664Z",
     "shell.execute_reply": "2024-12-05T20:55:26.624762Z",
     "shell.execute_reply.started": "2024-12-05T20:55:26.608663Z"
    }
   },
   "outputs": [
    {
     "data": {
      "text/plain": [
       "48"
      ]
     },
     "execution_count": 24,
     "metadata": {},
     "output_type": "execute_result"
    }
   ],
   "source": [
    "max_len_en = max((len(text) for text in valid_token_en))\n",
    "max_len_en"
   ]
  },
  {
   "cell_type": "markdown",
   "metadata": {},
   "source": [
    "The longest sequence is in french with 54 token, so we put a maximum length of 64 for our model."
   ]
  },
  {
   "cell_type": "code",
   "execution_count": 25,
   "metadata": {
    "execution": {
     "iopub.execute_input": "2024-12-05T20:55:26.627191Z",
     "iopub.status.busy": "2024-12-05T20:55:26.626870Z",
     "iopub.status.idle": "2024-12-05T20:55:26.636173Z",
     "shell.execute_reply": "2024-12-05T20:55:26.635380Z",
     "shell.execute_reply.started": "2024-12-05T20:55:26.627143Z"
    }
   },
   "outputs": [],
   "source": [
    "max_len = 64"
   ]
  },
  {
   "cell_type": "markdown",
   "metadata": {},
   "source": [
    "This function pad the sequences to the desired length. The pad token was defined previsously and set to have an id of 0. <br>\n",
    "We are using teacher forcing for the english sequences therefore we need to shift the expected y values by one to the left. The model will take one word in the sequence and learn to predict the next word in the sequence until the end_token."
   ]
  },
  {
   "cell_type": "code",
   "execution_count": 26,
   "metadata": {
    "execution": {
     "iopub.execute_input": "2024-12-05T20:55:26.637293Z",
     "iopub.status.busy": "2024-12-05T20:55:26.637052Z",
     "iopub.status.idle": "2024-12-05T20:55:26.648447Z",
     "shell.execute_reply": "2024-12-05T20:55:26.647624Z",
     "shell.execute_reply.started": "2024-12-05T20:55:26.637273Z"
    }
   },
   "outputs": [],
   "source": [
    "def make_dataset(query, value, max_length=50, return_shift=False, pad_token_id=0):\n",
    "        if len(query) > max_length: \n",
    "            query_pad = query[:max_length]\n",
    "        else:\n",
    "            query_pad = query + [pad_token_id]*(max_length-len(query))\n",
    "            \n",
    "        if len(value) > max_length:\n",
    "            value_pad = value[:max_length]\n",
    "            value_shifted_pad = value[1:max_length+1]\n",
    "        else:\n",
    "            value_pad = value[:-1] + [pad_token_id]*(max_length-len(value[:-1]))\n",
    "            value_shifted_pad = value[1:] + [pad_token_id]*(max_length-len(value[1:]))\n",
    "            \n",
    "        \n",
    "        return query_pad, value_pad, value_shifted_pad"
   ]
  },
  {
   "cell_type": "code",
   "execution_count": 27,
   "metadata": {
    "execution": {
     "iopub.execute_input": "2024-12-05T20:55:26.649694Z",
     "iopub.status.busy": "2024-12-05T20:55:26.649446Z",
     "iopub.status.idle": "2024-12-05T20:55:26.658519Z",
     "shell.execute_reply": "2024-12-05T20:55:26.657692Z",
     "shell.execute_reply.started": "2024-12-05T20:55:26.649675Z"
    }
   },
   "outputs": [],
   "source": [
    "def shift(sent, pad_token_id=0):\n",
    "    pad_token_shifted = sent[1:] + [pad_token_id] \n",
    "    return pad_token_shifted"
   ]
  },
  {
   "cell_type": "code",
   "execution_count": 28,
   "metadata": {
    "execution": {
     "iopub.execute_input": "2024-12-05T20:55:26.659649Z",
     "iopub.status.busy": "2024-12-05T20:55:26.659413Z",
     "iopub.status.idle": "2024-12-05T20:55:30.810620Z",
     "shell.execute_reply": "2024-12-05T20:55:30.809910Z",
     "shell.execute_reply.started": "2024-12-05T20:55:26.659619Z"
    }
   },
   "outputs": [],
   "source": [
    "query_pad_train, value_pad_train, value_shifted_pad_train = map(np.array,zip(*map(make_dataset, train_id_fr, train_id_en, [max_len]*len(train_id_en))))\n",
    "query_pad_valid, value_pad_valid, value_shifted_pad_valid = map(np.array,zip(*map(make_dataset, valid_id_fr, valid_id_en, [max_len]*len(train_id_en))))"
   ]
  },
  {
   "cell_type": "markdown",
   "metadata": {},
   "source": [
    "An example of what the shift does."
   ]
  },
  {
   "cell_type": "code",
   "execution_count": 29,
   "metadata": {
    "execution": {
     "iopub.execute_input": "2024-12-05T20:55:30.811912Z",
     "iopub.status.busy": "2024-12-05T20:55:30.811683Z",
     "iopub.status.idle": "2024-12-05T20:55:30.818018Z",
     "shell.execute_reply": "2024-12-05T20:55:30.817116Z",
     "shell.execute_reply.started": "2024-12-05T20:55:30.811894Z"
    }
   },
   "outputs": [
    {
     "data": {
      "text/plain": [
       "array([  1,  13,  11,  36, 316,   9,   0,   0,   0,   0,   0,   0,   0,\n",
       "         0,   0,   0,   0,   0,   0,   0,   0,   0,   0,   0,   0,   0,\n",
       "         0,   0,   0,   0,   0,   0,   0,   0,   0,   0,   0,   0,   0,\n",
       "         0,   0,   0,   0,   0,   0,   0,   0,   0,   0,   0,   0,   0,\n",
       "         0,   0,   0,   0,   0,   0,   0,   0,   0,   0,   0,   0])"
      ]
     },
     "execution_count": 29,
     "metadata": {},
     "output_type": "execute_result"
    }
   ],
   "source": [
    "value_pad_train[0]"
   ]
  },
  {
   "cell_type": "code",
   "execution_count": 30,
   "metadata": {
    "execution": {
     "iopub.execute_input": "2024-12-05T20:55:30.819463Z",
     "iopub.status.busy": "2024-12-05T20:55:30.819194Z",
     "iopub.status.idle": "2024-12-05T20:55:30.830862Z",
     "shell.execute_reply": "2024-12-05T20:55:30.830012Z",
     "shell.execute_reply.started": "2024-12-05T20:55:30.819443Z"
    }
   },
   "outputs": [
    {
     "data": {
      "text/plain": [
       "array([ 13,  11,  36, 316,   9,   2,   0,   0,   0,   0,   0,   0,   0,\n",
       "         0,   0,   0,   0,   0,   0,   0,   0,   0,   0,   0,   0,   0,\n",
       "         0,   0,   0,   0,   0,   0,   0,   0,   0,   0,   0,   0,   0,\n",
       "         0,   0,   0,   0,   0,   0,   0,   0,   0,   0,   0,   0,   0,\n",
       "         0,   0,   0,   0,   0,   0,   0,   0,   0,   0,   0,   0])"
      ]
     },
     "execution_count": 30,
     "metadata": {},
     "output_type": "execute_result"
    }
   ],
   "source": [
    "value_shifted_pad_train[0]"
   ]
  },
  {
   "cell_type": "code",
   "execution_count": 31,
   "metadata": {
    "execution": {
     "iopub.execute_input": "2024-12-05T20:55:30.832715Z",
     "iopub.status.busy": "2024-12-05T20:55:30.831903Z",
     "iopub.status.idle": "2024-12-05T20:55:30.840796Z",
     "shell.execute_reply": "2024-12-05T20:55:30.840104Z",
     "shell.execute_reply.started": "2024-12-05T20:55:30.832684Z"
    }
   },
   "outputs": [],
   "source": [
    "fr_vocab = tokenize_fr.len_vocab\n",
    "en_vocab = tokenize_en.len_vocab"
   ]
  },
  {
   "cell_type": "markdown",
   "metadata": {},
   "source": [
    "The number of words in each dictionary."
   ]
  },
  {
   "cell_type": "code",
   "execution_count": 32,
   "metadata": {
    "execution": {
     "iopub.execute_input": "2024-12-05T20:55:30.842579Z",
     "iopub.status.busy": "2024-12-05T20:55:30.841785Z",
     "iopub.status.idle": "2024-12-05T20:55:30.849724Z",
     "shell.execute_reply": "2024-12-05T20:55:30.848994Z",
     "shell.execute_reply.started": "2024-12-05T20:55:30.842545Z"
    }
   },
   "outputs": [
    {
     "name": "stdout",
     "output_type": "stream",
     "text": [
      "25795 13292\n"
     ]
    }
   ],
   "source": [
    "print(fr_vocab, en_vocab)"
   ]
  },
  {
   "cell_type": "markdown",
   "metadata": {},
   "source": [
    "# First Model (Decoder - Encoder)"
   ]
  },
  {
   "cell_type": "code",
   "execution_count": 33,
   "metadata": {
    "execution": {
     "iopub.execute_input": "2024-12-05T20:55:30.850927Z",
     "iopub.status.busy": "2024-12-05T20:55:30.850623Z",
     "iopub.status.idle": "2024-12-05T20:55:33.578045Z",
     "shell.execute_reply": "2024-12-05T20:55:33.577369Z",
     "shell.execute_reply.started": "2024-12-05T20:55:30.850899Z"
    }
   },
   "outputs": [],
   "source": [
    "import tensorflow as tf\n",
    "from tensorflow import keras\n",
    "from tensorflow.keras import layers"
   ]
  },
  {
   "cell_type": "code",
   "execution_count": 34,
   "metadata": {
    "execution": {
     "iopub.execute_input": "2024-12-05T20:55:33.579461Z",
     "iopub.status.busy": "2024-12-05T20:55:33.579001Z",
     "iopub.status.idle": "2024-12-05T20:55:33.585527Z",
     "shell.execute_reply": "2024-12-05T20:55:33.583469Z",
     "shell.execute_reply.started": "2024-12-05T20:55:33.579436Z"
    }
   },
   "outputs": [],
   "source": [
    "UNITS = 1024\n",
    "EPOCHS = 10\n",
    "BATCH_SIZE = 256"
   ]
  },
  {
   "cell_type": "code",
   "execution_count": 35,
   "metadata": {
    "execution": {
     "iopub.execute_input": "2024-12-05T20:55:33.586945Z",
     "iopub.status.busy": "2024-12-05T20:55:33.586741Z",
     "iopub.status.idle": "2024-12-05T20:55:36.579289Z",
     "shell.execute_reply": "2024-12-05T20:55:36.578343Z",
     "shell.execute_reply.started": "2024-12-05T20:55:33.586927Z"
    }
   },
   "outputs": [],
   "source": [
    "from keras.layers import LSTM, Input, TimeDistributed, Dense, Activation, RepeatVector, Embedding, LayerNormalization, MultiHeadAttention, Add, Bidirectional, Concatenate\n",
    "\n",
    "# Define an input sequence and process it.\n",
    "encoder_inputs = Input(shape=(max_len))\n",
    "x = Embedding(fr_vocab, UNITS)(encoder_inputs)\n",
    "encoder_outputs, state_h, state_c = LSTM(UNITS, return_sequences=True, return_state=True, dropout=0.2)(x)\n",
    "encoder_states = [state_h, state_c]\n",
    "\n",
    "# Set up the decoder, using `encoder_states` as initial state.\n",
    "decoder_inputs = Input(shape=(max_len))\n",
    "decoder_embeddings = Embedding(en_vocab, UNITS)(decoder_inputs)\n",
    "\n",
    "x = LSTM(UNITS, return_sequences=True, dropout=0.2)(decoder_embeddings, initial_state=encoder_states)\n",
    "\n",
    "decoder_outputs = Dense(en_vocab)(x)"
   ]
  },
  {
   "cell_type": "code",
   "execution_count": 36,
   "metadata": {
    "execution": {
     "iopub.execute_input": "2024-12-05T20:55:36.580732Z",
     "iopub.status.busy": "2024-12-05T20:55:36.580461Z",
     "iopub.status.idle": "2024-12-05T20:55:36.614470Z",
     "shell.execute_reply": "2024-12-05T20:55:36.613661Z",
     "shell.execute_reply.started": "2024-12-05T20:55:36.580710Z"
    }
   },
   "outputs": [
    {
     "name": "stdout",
     "output_type": "stream",
     "text": [
      "Model: \"model\"\n",
      "__________________________________________________________________________________________________\n",
      " Layer (type)                Output Shape                 Param #   Connected to                  \n",
      "==================================================================================================\n",
      " input_1 (InputLayer)        [(None, 64)]                 0         []                            \n",
      "                                                                                                  \n",
      " input_2 (InputLayer)        [(None, 64)]                 0         []                            \n",
      "                                                                                                  \n",
      " embedding (Embedding)       (None, 64, 1024)             2641408   ['input_1[0][0]']             \n",
      "                                                          0                                       \n",
      "                                                                                                  \n",
      " embedding_1 (Embedding)     (None, 64, 1024)             1361100   ['input_2[0][0]']             \n",
      "                                                          8                                       \n",
      "                                                                                                  \n",
      " lstm (LSTM)                 [(None, 64, 1024),           8392704   ['embedding[0][0]']           \n",
      "                              (None, 1024),                                                       \n",
      "                              (None, 1024)]                                                       \n",
      "                                                                                                  \n",
      " lstm_1 (LSTM)               (None, 64, 1024)             8392704   ['embedding_1[0][0]',         \n",
      "                                                                     'lstm[0][1]',                \n",
      "                                                                     'lstm[0][2]']                \n",
      "                                                                                                  \n",
      " dense (Dense)               (None, 64, 13292)            1362430   ['lstm_1[0][0]']              \n",
      "                                                          0                                       \n",
      "                                                                                                  \n",
      "==================================================================================================\n",
      "Total params: 70434796 (268.69 MB)\n",
      "Trainable params: 70434796 (268.69 MB)\n",
      "Non-trainable params: 0 (0.00 Byte)\n",
      "__________________________________________________________________________________________________\n"
     ]
    }
   ],
   "source": [
    "from keras.models import Model\n",
    "\n",
    "model = Model([encoder_inputs, decoder_inputs], decoder_outputs)\n",
    "model.summary()"
   ]
  },
  {
   "cell_type": "markdown",
   "metadata": {},
   "source": [
    "The seqences are padded which means that most of the values are zeros. If we use the keras functions for loss and accuracy it will see the zeros as valid ids to generate, and give us very low loss and very good accuracy while basically generating only zeros. <br>\n",
    "There two functions use a mask to only compute the accuracy and loss of the non padded sequences."
   ]
  },
  {
   "cell_type": "code",
   "execution_count": 37,
   "metadata": {
    "execution": {
     "iopub.execute_input": "2024-12-05T20:55:36.615740Z",
     "iopub.status.busy": "2024-12-05T20:55:36.615471Z",
     "iopub.status.idle": "2024-12-05T20:55:36.621603Z",
     "shell.execute_reply": "2024-12-05T20:55:36.620743Z",
     "shell.execute_reply.started": "2024-12-05T20:55:36.615717Z"
    }
   },
   "outputs": [],
   "source": [
    "def masked_loss(y_true, y_pred):\n",
    "    # Calculate the loss for each item in the batch.\n",
    "    loss_fn = tf.keras.losses.SparseCategoricalCrossentropy(\n",
    "        from_logits=True, reduction='none')\n",
    "    loss = loss_fn(y_true, y_pred)\n",
    "\n",
    "    # Mask off the losses on padding.\n",
    "    mask = tf.cast(y_true != 0, loss.dtype)\n",
    "    loss *= mask\n",
    "\n",
    "    # Return the total.\n",
    "    return tf.reduce_sum(loss)/tf.reduce_sum(mask)\n",
    "\n",
    "def masked_acc(y_true, y_pred):\n",
    "    # Calculate the accuracy for each item in the batch.\n",
    "    y_pred = tf.argmax(y_pred, axis=-1)\n",
    "    y_pred = tf.cast(y_pred, y_true.dtype)\n",
    "\n",
    "    match = tf.cast(y_true == y_pred, tf.float32)\n",
    "    mask = tf.cast(y_true != 0, tf.float32)\n",
    "\n",
    "    return tf.reduce_sum(match)/tf.reduce_sum(mask)"
   ]
  },
  {
   "cell_type": "code",
   "execution_count": 38,
   "metadata": {
    "execution": {
     "iopub.execute_input": "2024-12-05T20:55:36.623274Z",
     "iopub.status.busy": "2024-12-05T20:55:36.622778Z",
     "iopub.status.idle": "2024-12-05T20:55:36.643703Z",
     "shell.execute_reply": "2024-12-05T20:55:36.643061Z",
     "shell.execute_reply.started": "2024-12-05T20:55:36.623251Z"
    }
   },
   "outputs": [],
   "source": [
    "# Compile & run training\n",
    "model.compile(optimizer='adam', loss=masked_loss, metrics=[masked_acc, masked_loss])"
   ]
  },
  {
   "cell_type": "code",
   "execution_count": 39,
   "metadata": {
    "execution": {
     "iopub.execute_input": "2024-12-05T20:55:36.644791Z",
     "iopub.status.busy": "2024-12-05T20:55:36.644539Z",
     "iopub.status.idle": "2024-12-05T21:45:25.353230Z",
     "shell.execute_reply": "2024-12-05T21:45:25.352308Z",
     "shell.execute_reply.started": "2024-12-05T20:55:36.644771Z"
    }
   },
   "outputs": [
    {
     "name": "stdout",
     "output_type": "stream",
     "text": [
      "Epoch 1/10\n",
      "549/549 [==============================] - 303s 544ms/step - loss: 4.0908 - masked_acc: 0.3285 - masked_loss: 4.0905 - val_loss: 3.3891 - val_masked_acc: 0.3917 - val_masked_loss: 3.3893\n",
      "Epoch 2/10\n",
      "549/549 [==============================] - 298s 544ms/step - loss: 2.9385 - masked_acc: 0.4626 - masked_loss: 2.9384 - val_loss: 2.5893 - val_masked_acc: 0.5276 - val_masked_loss: 2.5895\n",
      "Epoch 3/10\n",
      "549/549 [==============================] - 298s 543ms/step - loss: 2.2231 - masked_acc: 0.5761 - masked_loss: 2.2230 - val_loss: 2.1227 - val_masked_acc: 0.6046 - val_masked_loss: 2.1230\n",
      "Epoch 4/10\n",
      "549/549 [==============================] - 298s 543ms/step - loss: 1.7313 - masked_acc: 0.6506 - masked_loss: 1.7313 - val_loss: 1.8057 - val_masked_acc: 0.6562 - val_masked_loss: 1.8067\n",
      "Epoch 5/10\n",
      "549/549 [==============================] - 298s 543ms/step - loss: 1.3553 - masked_acc: 0.7113 - masked_loss: 1.3553 - val_loss: 1.5991 - val_masked_acc: 0.6932 - val_masked_loss: 1.5997\n",
      "Epoch 6/10\n",
      "549/549 [==============================] - 298s 544ms/step - loss: 1.0757 - masked_acc: 0.7598 - masked_loss: 1.0757 - val_loss: 1.4711 - val_masked_acc: 0.7184 - val_masked_loss: 1.4720\n",
      "Epoch 7/10\n",
      "549/549 [==============================] - 299s 544ms/step - loss: 0.8664 - masked_acc: 0.7998 - masked_loss: 0.8664 - val_loss: 1.4017 - val_masked_acc: 0.7342 - val_masked_loss: 1.4029\n",
      "Epoch 8/10\n",
      "549/549 [==============================] - 298s 544ms/step - loss: 0.7072 - masked_acc: 0.8319 - masked_loss: 0.7072 - val_loss: 1.3439 - val_masked_acc: 0.7485 - val_masked_loss: 1.3452\n",
      "Epoch 9/10\n",
      "549/549 [==============================] - 298s 544ms/step - loss: 0.5866 - masked_acc: 0.8577 - masked_loss: 0.5866 - val_loss: 1.3342 - val_masked_acc: 0.7553 - val_masked_loss: 1.3356\n",
      "Epoch 10/10\n",
      "549/549 [==============================] - 298s 544ms/step - loss: 0.4920 - masked_acc: 0.8786 - masked_loss: 0.4920 - val_loss: 1.3218 - val_masked_acc: 0.7613 - val_masked_loss: 1.3232\n"
     ]
    }
   ],
   "source": [
    "history = model.fit([query_pad_train, value_pad_train], value_shifted_pad_train,\n",
    "          batch_size=BATCH_SIZE,\n",
    "          epochs=EPOCHS,\n",
    "          validation_data=([query_pad_valid, value_pad_valid], value_shifted_pad_valid)\n",
    "                   )"
   ]
  },
  {
   "cell_type": "code",
   "execution_count": 40,
   "metadata": {
    "execution": {
     "iopub.execute_input": "2024-12-05T21:45:25.355173Z",
     "iopub.status.busy": "2024-12-05T21:45:25.354812Z",
     "iopub.status.idle": "2024-12-05T21:45:26.305482Z",
     "shell.execute_reply": "2024-12-05T21:45:26.304698Z",
     "shell.execute_reply.started": "2024-12-05T21:45:25.355125Z"
    }
   },
   "outputs": [
    {
     "data": {
      "text/plain": [
       "<matplotlib.legend.Legend at 0x7b681fb33520>"
      ]
     },
     "execution_count": 40,
     "metadata": {},
     "output_type": "execute_result"
    },
    {
     "data": {
      "image/png": "[encoded data removed]",
      "text/plain": [
       "<Figure size 640x480 with 2 Axes>"
      ]
     },
     "metadata": {},
     "output_type": "display_data"
    }
   ],
   "source": [
    "plt.subplot(1, 2, 1)\n",
    "plt.plot(history.history['loss'], label='loss')\n",
    "plt.plot(history.history['val_loss'], label='val_loss')\n",
    "plt.ylim([0, max(plt.ylim())])\n",
    "plt.xlabel('Epoch #')\n",
    "plt.ylabel('Loss')\n",
    "plt.legend()\n",
    "\n",
    "plt.subplot(1, 2, 2)\n",
    "plt.plot(history.history['masked_acc'], label='accuracy')\n",
    "plt.plot(history.history['val_masked_acc'], label='val_accuracy')\n",
    "plt.ylim([0, max(plt.ylim())])\n",
    "plt.xlabel('Epoch #')\n",
    "plt.ylabel('Accuracy')\n",
    "plt.legend()"
   ]
  },
  {
   "cell_type": "code",
   "execution_count": 41,
   "metadata": {
    "execution": {
     "iopub.execute_input": "2024-12-05T21:45:26.306954Z",
     "iopub.status.busy": "2024-12-05T21:45:26.306622Z",
     "iopub.status.idle": "2024-12-05T21:45:26.312121Z",
     "shell.execute_reply": "2024-12-05T21:45:26.311200Z",
     "shell.execute_reply.started": "2024-12-05T21:45:26.306925Z"
    }
   },
   "outputs": [],
   "source": [
    "def pad_seq(seq, max_length=50, pad_token_id=0):\n",
    "        if len(seq) > max_length: \n",
    "            pad = seq[:max_length]\n",
    "        else:\n",
    "            pad = seq + [pad_token_id]*(max_length-len(seq))\n",
    "            \n",
    "        return pad"
   ]
  },
  {
   "cell_type": "markdown",
   "metadata": {},
   "source": [
    "The model takes as input both french and english sentences, but of course if you want to translate a french sentence into an english one you can't do that. <br>\n",
    "So what we are doing is we give the french sentence to our model and an array of zeros (except the first value which is equal to start_token). <br>\n",
    "Then we use a while loop to generate one word after the other until the model generate an end_token or the maximum number of token that our model handles. <br>"
   ]
  },
  {
   "cell_type": "code",
   "execution_count": 42,
   "metadata": {
    "execution": {
     "iopub.execute_input": "2024-12-05T21:45:26.313371Z",
     "iopub.status.busy": "2024-12-05T21:45:26.313063Z",
     "iopub.status.idle": "2024-12-05T21:45:26.325318Z",
     "shell.execute_reply": "2024-12-05T21:45:26.324542Z",
     "shell.execute_reply.started": "2024-12-05T21:45:26.313348Z"
    }
   },
   "outputs": [],
   "source": [
    "def predict(text_fr, model=model, return_sent=False, pad_sent=False, print_gen=True):\n",
    "    if pad_sent:\n",
    "        sent_id_fr = text_fr\n",
    "    else:\n",
    "        clean_text_fr = clean_text(text_fr) #we clean the french sentence\n",
    "        sent_token_fr, sent_id_fr = tokenize_fr(clean_text_fr) #convert the cleaned sentence into tokens of words and ids\n",
    "        sent_id_fr = pad_seq(sent_id_fr[0], max_len) #we pad the sentence\n",
    "    sent_id_en = np.zeros(max_len, dtype=np.int32) #the input english sentence is an array of 0 of max_len length \n",
    "    sent_id_en[0] = tokenize_en.word_to_idx[start_token] #we replace the first token by the start_token because that is how our model learned to map the data \n",
    "    predict = -1 \n",
    "    seq_en = []\n",
    "    i = 0\n",
    "    while predict!=2 and i<max_len-1: # 2 is the id of end_token in our dictionary\n",
    "        softmax = tf.keras.layers.Softmax() #the output of the models are logits so we need to use a softmax layer\n",
    "        test_predict = softmax(model.predict([np.expand_dims(sent_id_fr, axis=0),  np.expand_dims(sent_id_en, axis=0)], verbose=False)) #we produce the sequences output\n",
    "        predict = np.argmax(test_predict[0][i]) #we only care about the token predicted for the ith token and select the one with the most probability\n",
    "        seq_en += [predict]\n",
    "        sent_id_en[i+1] = predict\n",
    "        i +=1\n",
    "    if print_gen:\n",
    "        print(' '.join([tokenize_en.idx_to_word[i] for i in seq_en if i!=2])) #we print the generated sentence without the end_token\n",
    "    if return_sent:\n",
    "        return sent_id_en"
   ]
  },
  {
   "cell_type": "markdown",
   "metadata": {},
   "source": [
    "Some examples of translations."
   ]
  },
  {
   "cell_type": "code",
   "execution_count": 43,
   "metadata": {
    "execution": {
     "iopub.execute_input": "2024-12-05T21:45:26.326745Z",
     "iopub.status.busy": "2024-12-05T21:45:26.326427Z",
     "iopub.status.idle": "2024-12-05T21:45:27.273042Z",
     "shell.execute_reply": "2024-12-05T21:45:27.272192Z",
     "shell.execute_reply.started": "2024-12-05T21:45:26.326716Z"
    }
   },
   "outputs": [
    {
     "name": "stdout",
     "output_type": "stream",
     "text": [
      "how are you ?\n"
     ]
    }
   ],
   "source": [
    "#How are you?\n",
    "sent_fr = \"Comment vas-tu ?\" \n",
    "predict(sent_fr, model=model)"
   ]
  },
  {
   "cell_type": "code",
   "execution_count": 44,
   "metadata": {
    "execution": {
     "iopub.execute_input": "2024-12-05T21:45:27.274385Z",
     "iopub.status.busy": "2024-12-05T21:45:27.274136Z",
     "iopub.status.idle": "2024-12-05T21:45:27.586255Z",
     "shell.execute_reply": "2024-12-05T21:45:27.585398Z",
     "shell.execute_reply.started": "2024-12-05T21:45:27.274364Z"
    }
   },
   "outputs": [
    {
     "name": "stdout",
     "output_type": "stream",
     "text": [
      "i 'm okay .\n"
     ]
    }
   ],
   "source": [
    "#I'm fine.\n",
    "sent_fr = \"Je vais bien.\" \n",
    "predict(sent_fr, model=model)"
   ]
  },
  {
   "cell_type": "code",
   "execution_count": 45,
   "metadata": {
    "execution": {
     "iopub.execute_input": "2024-12-05T21:45:27.588363Z",
     "iopub.status.busy": "2024-12-05T21:45:27.587494Z",
     "iopub.status.idle": "2024-12-05T21:45:28.573315Z",
     "shell.execute_reply": "2024-12-05T21:45:28.572433Z",
     "shell.execute_reply.started": "2024-12-05T21:45:27.588322Z"
    }
   },
   "outputs": [
    {
     "name": "stdout",
     "output_type": "stream",
     "text": [
      "if i go fishing or i 'll try to learn the toilet is better .\n"
     ]
    }
   ],
   "source": [
    "#Tomorrow I will go buy some bread at backery, then I will go buy groceries.\n",
    "sent_fr = \"Demain j'irai acheter du pain à la boulangerie, puis j'irai faire les courses.\" \n",
    "predict(sent_fr, model=model)"
   ]
  },
  {
   "cell_type": "markdown",
   "metadata": {},
   "source": [
    "I know that nltk has its own BLEU integration but I wanted to do my own (it's not very good I know, I did it very quickly so I'm not very proud of it). <br>\n",
    "I compute the BLEU score for each sequences in the valid dataset and do an average for each length but it takes too long so I simply select one random sequence per length and compute the score for each (hence why the plot is so uneven)."
   ]
  },
  {
   "cell_type": "code",
   "execution_count": 46,
   "metadata": {
    "execution": {
     "iopub.execute_input": "2024-12-05T21:45:28.575224Z",
     "iopub.status.busy": "2024-12-05T21:45:28.574572Z",
     "iopub.status.idle": "2024-12-05T21:45:28.580696Z",
     "shell.execute_reply": "2024-12-05T21:45:28.579897Z",
     "shell.execute_reply.started": "2024-12-05T21:45:28.575187Z"
    }
   },
   "outputs": [],
   "source": [
    "def make_ngrams(seq, n):\n",
    "    n_grams = [tuple(seq[i:i+n]) for i in range(len(seq)-n+1)]\n",
    "    n_counts = Counter(n_grams)\n",
    "    return n_counts"
   ]
  },
  {
   "cell_type": "code",
   "execution_count": 47,
   "metadata": {
    "execution": {
     "iopub.execute_input": "2024-12-05T21:45:28.582305Z",
     "iopub.status.busy": "2024-12-05T21:45:28.581787Z",
     "iopub.status.idle": "2024-12-05T21:45:28.592319Z",
     "shell.execute_reply": "2024-12-05T21:45:28.591659Z",
     "shell.execute_reply.started": "2024-12-05T21:45:28.582281Z"
    }
   },
   "outputs": [],
   "source": [
    "def BLEU(generated_seq, target_seq, weight=[1/4,1/4,1/4,1/4]):\n",
    "    g_seq = [c for c in generated_seq if c>0 and c!=2]\n",
    "    t_seq = [c for c in target_seq if c>0 and c!=2]\n",
    "    \n",
    "    scores = []\n",
    "    \n",
    "    for i in range(4):\n",
    "        n_counts_g = make_ngrams(g_seq, i+1)\n",
    "        n_counts_t = make_ngrams(t_seq, i+1)\n",
    "        \n",
    "        score = sum((min(n_counts_t.get(gram, 0), n_counts_g[gram]) for gram in n_counts_g))       \n",
    "        score /= sum(n_counts_g.values())\n",
    "        \n",
    "        scores += [score + 1e-1]\n",
    "    \n",
    "    if len(g_seq) > len(t_seq):\n",
    "        BS = 1\n",
    "    else:\n",
    "        BS = np.exp(1- (len(t_seq)/len(g_seq)))\n",
    "\n",
    "    BLEU = BS*np.exp(np.sum(weight*np.log(scores)))\n",
    "    \n",
    "    return BLEU"
   ]
  },
  {
   "cell_type": "code",
   "execution_count": 48,
   "metadata": {
    "execution": {
     "iopub.execute_input": "2024-12-05T21:45:28.593604Z",
     "iopub.status.busy": "2024-12-05T21:45:28.593304Z",
     "iopub.status.idle": "2024-12-05T21:45:28.605967Z",
     "shell.execute_reply": "2024-12-05T21:45:28.605214Z",
     "shell.execute_reply.started": "2024-12-05T21:45:28.593576Z"
    }
   },
   "outputs": [],
   "source": [
    "def generate_list(array, min_len, max_len):\n",
    "    random_list = []\n",
    "    len_list = []\n",
    "    for length in range(max_len-min_len + 1):\n",
    "        len_id = [i for i in range(len(array)) if (sum(array[i] != 0) - 2) == (length + min_len)]\n",
    "        if len(len_id) > 0:\n",
    "            random_list += [random.choice(len_id)] \n",
    "            len_list += [length + min_len]\n",
    "    return random_list, len_list"
   ]
  },
  {
   "cell_type": "code",
   "execution_count": 49,
   "metadata": {
    "execution": {
     "iopub.execute_input": "2024-12-05T21:45:28.607017Z",
     "iopub.status.busy": "2024-12-05T21:45:28.606801Z",
     "iopub.status.idle": "2024-12-05T21:45:29.006766Z",
     "shell.execute_reply": "2024-12-05T21:45:29.005920Z",
     "shell.execute_reply.started": "2024-12-05T21:45:28.606998Z"
    }
   },
   "outputs": [
    {
     "data": {
      "text/plain": [
       "52"
      ]
     },
     "execution_count": 49,
     "metadata": {},
     "output_type": "execute_result"
    }
   ],
   "source": [
    "max_len_valid = max((sum(query_pad_valid[i] != 0) - 2 for i in range(len(query_pad_valid))))\n",
    "max_len_valid"
   ]
  },
  {
   "cell_type": "code",
   "execution_count": 50,
   "metadata": {
    "execution": {
     "iopub.execute_input": "2024-12-05T21:45:29.007956Z",
     "iopub.status.busy": "2024-12-05T21:45:29.007733Z",
     "iopub.status.idle": "2024-12-05T21:45:47.475072Z",
     "shell.execute_reply": "2024-12-05T21:45:47.474380Z",
     "shell.execute_reply.started": "2024-12-05T21:45:29.007938Z"
    }
   },
   "outputs": [
    {
     "data": {
      "text/plain": [
       "[32129,\n",
       " 27864,\n",
       " 9249,\n",
       " 3858,\n",
       " 20951,\n",
       " 34274,\n",
       " 30779,\n",
       " 6722,\n",
       " 22763,\n",
       " 24295,\n",
       " 2079,\n",
       " 2824,\n",
       " 12070,\n",
       " 30118,\n",
       " 30394,\n",
       " 34878,\n",
       " 21629,\n",
       " 34955,\n",
       " 888,\n",
       " 30088,\n",
       " 19820,\n",
       " 13632,\n",
       " 28910,\n",
       " 1085,\n",
       " 23753,\n",
       " 15349,\n",
       " 31272,\n",
       " 29200,\n",
       " 18311,\n",
       " 13107,\n",
       " 19390,\n",
       " 17217,\n",
       " 8698,\n",
       " 11088]"
      ]
     },
     "execution_count": 50,
     "metadata": {},
     "output_type": "execute_result"
    }
   ],
   "source": [
    "random_list, len_list = generate_list(query_pad_valid, 4, max_len_valid)\n",
    "random_list"
   ]
  },
  {
   "cell_type": "code",
   "execution_count": 51,
   "metadata": {
    "execution": {
     "iopub.execute_input": "2024-12-05T21:45:47.476441Z",
     "iopub.status.busy": "2024-12-05T21:45:47.476177Z",
     "iopub.status.idle": "2024-12-05T21:46:27.520962Z",
     "shell.execute_reply": "2024-12-05T21:46:27.520015Z",
     "shell.execute_reply.started": "2024-12-05T21:45:47.476421Z"
    }
   },
   "outputs": [],
   "source": [
    "list_BLEU = [BLEU(predict(query_pad_valid[i], model=model, return_sent=True, pad_sent=True, print_gen=False), value_shifted_pad_valid[i]) for i in  random_list]"
   ]
  },
  {
   "cell_type": "code",
   "execution_count": 52,
   "metadata": {
    "execution": {
     "iopub.execute_input": "2024-12-05T21:46:27.522459Z",
     "iopub.status.busy": "2024-12-05T21:46:27.522183Z",
     "iopub.status.idle": "2024-12-05T21:46:27.672882Z",
     "shell.execute_reply": "2024-12-05T21:46:27.671934Z",
     "shell.execute_reply.started": "2024-12-05T21:46:27.522436Z"
    }
   },
   "outputs": [
    {
     "data": {
      "text/plain": [
       "Text(0, 0.5, 'BLEU')"
      ]
     },
     "execution_count": 52,
     "metadata": {},
     "output_type": "execute_result"
    },
    {
     "data": {
      "image/png": "[encoded data removed]",
      "text/plain": [
       "<Figure size 640x480 with 1 Axes>"
      ]
     },
     "metadata": {},
     "output_type": "display_data"
    }
   ],
   "source": [
    "plt.plot(len_list, list_BLEU)\n",
    "plt.ylim([0, max(plt.ylim())])\n",
    "plt.xlabel('Length')\n",
    "plt.ylabel('BLEU')"
   ]
  },
  {
   "cell_type": "markdown",
   "metadata": {},
   "source": [
    "# Second Model (Decoder - Encoder - Attention)"
   ]
  },
  {
   "cell_type": "code",
   "execution_count": 53,
   "metadata": {
    "execution": {
     "iopub.execute_input": "2024-12-05T21:46:27.674778Z",
     "iopub.status.busy": "2024-12-05T21:46:27.674440Z",
     "iopub.status.idle": "2024-12-05T21:46:31.292844Z",
     "shell.execute_reply": "2024-12-05T21:46:31.292127Z",
     "shell.execute_reply.started": "2024-12-05T21:46:27.674748Z"
    }
   },
   "outputs": [],
   "source": [
    "# Define an input sequence and process it.\n",
    "encoder_inputs = Input(shape=(max_len))\n",
    "x = Embedding(fr_vocab, UNITS)(encoder_inputs)\n",
    "encoder_outputs = Bidirectional(merge_mode='sum', layer=LSTM(UNITS, return_sequences=True,\n",
    "                           return_state=False, dropout=0.2))(x)\n",
    "\n",
    "# Set up the decoder, using `encoder_states` as initial state.\n",
    "decoder_inputs = Input(shape=(max_len))\n",
    "decoder_embeddings = Embedding(en_vocab, UNITS)(decoder_inputs)\n",
    "\n",
    "\n",
    "x = LSTM(UNITS, return_sequences=True, dropout=0.2)(decoder_embeddings, initial_state=None)\n",
    "\n",
    "#Attention \n",
    "attention = MultiHeadAttention(num_heads=1, key_dim=UNITS, dropout=0.2)\n",
    "attention_output, attention_scores = attention(query=x, value=encoder_outputs, return_attention_scores=True)\n",
    "\n",
    "add = Add()\n",
    "normalization = LayerNormalization()\n",
    "\n",
    "attention_seq = add([x, attention_output])\n",
    "attention_seq = normalization(attention_seq)\n",
    "\n",
    "decoder_outputs = Dense(en_vocab)(attention_seq)"
   ]
  },
  {
   "cell_type": "code",
   "execution_count": 54,
   "metadata": {
    "execution": {
     "iopub.execute_input": "2024-12-05T21:46:31.294189Z",
     "iopub.status.busy": "2024-12-05T21:46:31.293920Z",
     "iopub.status.idle": "2024-12-05T21:46:31.332658Z",
     "shell.execute_reply": "2024-12-05T21:46:31.331907Z",
     "shell.execute_reply.started": "2024-12-05T21:46:31.294167Z"
    }
   },
   "outputs": [
    {
     "name": "stdout",
     "output_type": "stream",
     "text": [
      "Model: \"model_1\"\n",
      "__________________________________________________________________________________________________\n",
      " Layer (type)                Output Shape                 Param #   Connected to                  \n",
      "==================================================================================================\n",
      " input_4 (InputLayer)        [(None, 64)]                 0         []                            \n",
      "                                                                                                  \n",
      " input_3 (InputLayer)        [(None, 64)]                 0         []                            \n",
      "                                                                                                  \n",
      " embedding_3 (Embedding)     (None, 64, 1024)             1361100   ['input_4[0][0]']             \n",
      "                                                          8                                       \n",
      "                                                                                                  \n",
      " embedding_2 (Embedding)     (None, 64, 1024)             2641408   ['input_3[0][0]']             \n",
      "                                                          0                                       \n",
      "                                                                                                  \n",
      " lstm_3 (LSTM)               (None, 64, 1024)             8392704   ['embedding_3[0][0]']         \n",
      "                                                                                                  \n",
      " bidirectional (Bidirection  (None, 64, 1024)             1678540   ['embedding_2[0][0]']         \n",
      " al)                                                      8                                       \n",
      "                                                                                                  \n",
      " multi_head_attention (Mult  ((None, 64, 1024),           4198400   ['lstm_3[0][0]',              \n",
      " iHeadAttention)              (None, 1, 64, 64))                     'bidirectional[0][0]']       \n",
      "                                                                                                  \n",
      " add (Add)                   (None, 64, 1024)             0         ['lstm_3[0][0]',              \n",
      "                                                                     'multi_head_attention[0][0]']\n",
      "                                                                                                  \n",
      " layer_normalization (Layer  (None, 64, 1024)             2048      ['add[0][0]']                 \n",
      " Normalization)                                                                                   \n",
      "                                                                                                  \n",
      " dense_1 (Dense)             (None, 64, 13292)            1362430   ['layer_normalization[0][0]'] \n",
      "                                                          0                                       \n",
      "                                                                                                  \n",
      "==================================================================================================\n",
      "Total params: 83027948 (316.73 MB)\n",
      "Trainable params: 83027948 (316.73 MB)\n",
      "Non-trainable params: 0 (0.00 Byte)\n",
      "__________________________________________________________________________________________________\n"
     ]
    }
   ],
   "source": [
    "# Define the model that will turn\n",
    "# `encoder_input_data` & `decoder_input_data` into `decoder_target_data`\n",
    "model_A = Model([encoder_inputs, decoder_inputs], decoder_outputs)\n",
    "model_A.summary()"
   ]
  },
  {
   "cell_type": "code",
   "execution_count": 55,
   "metadata": {
    "execution": {
     "iopub.execute_input": "2024-12-05T21:46:31.334315Z",
     "iopub.status.busy": "2024-12-05T21:46:31.333914Z",
     "iopub.status.idle": "2024-12-05T21:46:31.346343Z",
     "shell.execute_reply": "2024-12-05T21:46:31.345544Z",
     "shell.execute_reply.started": "2024-12-05T21:46:31.334273Z"
    }
   },
   "outputs": [],
   "source": [
    "model_A.compile(optimizer='adam', loss=masked_loss, metrics=[masked_acc, masked_loss])"
   ]
  },
  {
   "cell_type": "code",
   "execution_count": 56,
   "metadata": {
    "execution": {
     "iopub.execute_input": "2024-12-05T21:46:31.347335Z",
     "iopub.status.busy": "2024-12-05T21:46:31.347087Z",
     "iopub.status.idle": "2024-12-05T22:56:31.043107Z",
     "shell.execute_reply": "2024-12-05T22:56:31.042335Z",
     "shell.execute_reply.started": "2024-12-05T21:46:31.347315Z"
    }
   },
   "outputs": [
    {
     "name": "stdout",
     "output_type": "stream",
     "text": [
      "Epoch 1/10\n",
      "549/549 [==============================] - 426s 765ms/step - loss: 3.1179 - masked_acc: 0.4745 - masked_loss: 3.1174 - val_loss: 1.5864 - val_masked_acc: 0.7013 - val_masked_loss: 1.5867\n",
      "Epoch 2/10\n",
      "549/549 [==============================] - 419s 763ms/step - loss: 1.2548 - masked_acc: 0.7417 - masked_loss: 1.2548 - val_loss: 1.0917 - val_masked_acc: 0.7801 - val_masked_loss: 1.0927\n",
      "Epoch 3/10\n",
      "549/549 [==============================] - 419s 764ms/step - loss: 0.7807 - masked_acc: 0.8146 - masked_loss: 0.7807 - val_loss: 0.9848 - val_masked_acc: 0.8046 - val_masked_loss: 0.9863\n",
      "Epoch 4/10\n",
      "549/549 [==============================] - 419s 764ms/step - loss: 0.5511 - masked_acc: 0.8581 - masked_loss: 0.5511 - val_loss: 0.9617 - val_masked_acc: 0.8149 - val_masked_loss: 0.9634\n",
      "Epoch 5/10\n",
      "549/549 [==============================] - 419s 764ms/step - loss: 0.4242 - masked_acc: 0.8858 - masked_loss: 0.4242 - val_loss: 0.9598 - val_masked_acc: 0.8219 - val_masked_loss: 0.9616\n",
      "Epoch 6/10\n",
      "549/549 [==============================] - 419s 764ms/step - loss: 0.3404 - masked_acc: 0.9056 - masked_loss: 0.3404 - val_loss: 0.9772 - val_masked_acc: 0.8259 - val_masked_loss: 0.9791\n",
      "Epoch 7/10\n",
      "549/549 [==============================] - 419s 764ms/step - loss: 0.2832 - masked_acc: 0.9197 - masked_loss: 0.2833 - val_loss: 1.0035 - val_masked_acc: 0.8271 - val_masked_loss: 1.0058\n",
      "Epoch 8/10\n",
      "549/549 [==============================] - 419s 764ms/step - loss: 0.2424 - masked_acc: 0.9303 - masked_loss: 0.2424 - val_loss: 1.0273 - val_masked_acc: 0.8303 - val_masked_loss: 1.0298\n",
      "Epoch 9/10\n",
      "549/549 [==============================] - 419s 764ms/step - loss: 0.2123 - masked_acc: 0.9378 - masked_loss: 0.2123 - val_loss: 1.0840 - val_masked_acc: 0.8296 - val_masked_loss: 1.0860\n",
      "Epoch 10/10\n",
      "549/549 [==============================] - 419s 764ms/step - loss: 0.1890 - masked_acc: 0.9443 - masked_loss: 0.1890 - val_loss: 1.0959 - val_masked_acc: 0.8319 - val_masked_loss: 1.0982\n"
     ]
    }
   ],
   "source": [
    "history_A = model_A.fit([query_pad_train, value_pad_train], value_shifted_pad_train,\n",
    "          batch_size=BATCH_SIZE,\n",
    "          epochs=EPOCHS,\n",
    "          validation_data=([query_pad_valid, value_pad_valid], value_shifted_pad_valid)\n",
    "                   )"
   ]
  },
  {
   "cell_type": "code",
   "execution_count": 57,
   "metadata": {
    "execution": {
     "iopub.execute_input": "2024-12-05T22:56:31.044634Z",
     "iopub.status.busy": "2024-12-05T22:56:31.044375Z",
     "iopub.status.idle": "2024-12-05T22:56:31.430169Z",
     "shell.execute_reply": "2024-12-05T22:56:31.429320Z",
     "shell.execute_reply.started": "2024-12-05T22:56:31.044614Z"
    }
   },
   "outputs": [
    {
     "data": {
      "text/plain": [
       "<matplotlib.legend.Legend at 0x7b67ac70bca0>"
      ]
     },
     "execution_count": 57,
     "metadata": {},
     "output_type": "execute_result"
    },
    {
     "data": {
      "image/png": "[encoded data removed]",
      "text/plain": [
       "<Figure size 640x480 with 2 Axes>"
      ]
     },
     "metadata": {},
     "output_type": "display_data"
    }
   ],
   "source": [
    "plt.subplot(1, 2, 1)\n",
    "plt.plot(history_A.history['loss'], label='loss')\n",
    "plt.plot(history_A.history['val_loss'], label='val_loss')\n",
    "plt.ylim([0, max(plt.ylim())])\n",
    "plt.xlabel('Epoch #')\n",
    "plt.ylabel('Loss')\n",
    "plt.legend()\n",
    "\n",
    "plt.subplot(1, 2, 2)\n",
    "plt.plot(history_A.history['masked_acc'], label='accuracy')\n",
    "plt.plot(history_A.history['val_masked_acc'], label='val_accuracy')\n",
    "plt.ylim([0, max(plt.ylim())])\n",
    "plt.xlabel('Epoch #')\n",
    "plt.ylabel('Accuracy')\n",
    "plt.legend()"
   ]
  },
  {
   "cell_type": "code",
   "execution_count": 58,
   "metadata": {
    "execution": {
     "iopub.execute_input": "2024-12-05T22:56:31.431653Z",
     "iopub.status.busy": "2024-12-05T22:56:31.431437Z",
     "iopub.status.idle": "2024-12-05T22:56:32.647169Z",
     "shell.execute_reply": "2024-12-05T22:56:32.646303Z",
     "shell.execute_reply.started": "2024-12-05T22:56:31.431635Z"
    }
   },
   "outputs": [
    {
     "name": "stdout",
     "output_type": "stream",
     "text": [
      "how are you ?\n"
     ]
    }
   ],
   "source": [
    "#How are you?\n",
    "sent_fr = \"Comment vas-tu ?\" \n",
    "predict(sent_fr, model=model_A)"
   ]
  },
  {
   "cell_type": "code",
   "execution_count": 59,
   "metadata": {
    "execution": {
     "iopub.execute_input": "2024-12-05T22:56:32.649038Z",
     "iopub.status.busy": "2024-12-05T22:56:32.648369Z",
     "iopub.status.idle": "2024-12-05T22:56:32.985050Z",
     "shell.execute_reply": "2024-12-05T22:56:32.984220Z",
     "shell.execute_reply.started": "2024-12-05T22:56:32.649003Z"
    }
   },
   "outputs": [
    {
     "name": "stdout",
     "output_type": "stream",
     "text": [
      "i 'm ok .\n"
     ]
    }
   ],
   "source": [
    "#I'm fine.\n",
    "sent_fr = \"Je vais bien.\" \n",
    "predict(sent_fr, model=model_A)"
   ]
  },
  {
   "cell_type": "code",
   "execution_count": 60,
   "metadata": {
    "execution": {
     "iopub.execute_input": "2024-12-05T22:56:32.986482Z",
     "iopub.status.busy": "2024-12-05T22:56:32.986215Z",
     "iopub.status.idle": "2024-12-05T22:56:34.389960Z",
     "shell.execute_reply": "2024-12-05T22:56:34.389083Z",
     "shell.execute_reply.started": "2024-12-05T22:56:32.986457Z"
    }
   },
   "outputs": [
    {
     "name": "stdout",
     "output_type": "stream",
     "text": [
      "i 'll go to the bread and buy some of the bread , and then go to some sleep .\n"
     ]
    }
   ],
   "source": [
    "#Tomorrow I will go buy some bread at backery, then I will go buy groceries.\n",
    "sent_fr = \"Demain j'irai acheter du pain à la boulangerie, puis j'irai faire les courses.\" \n",
    "predict(sent_fr, model=model_A)"
   ]
  },
  {
   "cell_type": "code",
   "execution_count": 61,
   "metadata": {
    "execution": {
     "iopub.execute_input": "2024-12-05T22:56:34.391310Z",
     "iopub.status.busy": "2024-12-05T22:56:34.391028Z",
     "iopub.status.idle": "2024-12-05T22:57:14.153575Z",
     "shell.execute_reply": "2024-12-05T22:57:14.152517Z",
     "shell.execute_reply.started": "2024-12-05T22:56:34.391288Z"
    }
   },
   "outputs": [],
   "source": [
    "list_BLEU = [BLEU(predict(query_pad_valid[i], model=model_A, return_sent=True, pad_sent=True, print_gen=False), value_shifted_pad_valid[i]) for i in  random_list]"
   ]
  },
  {
   "cell_type": "code",
   "execution_count": 62,
   "metadata": {
    "execution": {
     "iopub.execute_input": "2024-12-05T22:57:14.155466Z",
     "iopub.status.busy": "2024-12-05T22:57:14.155060Z",
     "iopub.status.idle": "2024-12-05T22:57:14.372066Z",
     "shell.execute_reply": "2024-12-05T22:57:14.371285Z",
     "shell.execute_reply.started": "2024-12-05T22:57:14.155434Z"
    }
   },
   "outputs": [
    {
     "data": {
      "text/plain": [
       "Text(0, 0.5, 'BLEU')"
      ]
     },
     "execution_count": 62,
     "metadata": {},
     "output_type": "execute_result"
    },
    {
     "data": {
      "image/png": "[encoded data removed]",
      "text/plain": [
       "<Figure size 640x480 with 1 Axes>"
      ]
     },
     "metadata": {},
     "output_type": "display_data"
    }
   ],
   "source": [
    "plt.plot(len_list, list_BLEU)\n",
    "plt.ylim([0, max(plt.ylim())])\n",
    "plt.xlabel('Length')\n",
    "plt.ylabel('BLEU')"
   ]
  },
  {
   "cell_type": "markdown",
   "metadata": {},
   "source": [
    "# Third Model (Decoder - Encoder - Multi Headed Attention)"
   ]
  },
  {
   "cell_type": "code",
   "execution_count": 63,
   "metadata": {
    "execution": {
     "iopub.execute_input": "2024-12-05T22:57:14.373406Z",
     "iopub.status.busy": "2024-12-05T22:57:14.373134Z",
     "iopub.status.idle": "2024-12-05T22:57:17.868616Z",
     "shell.execute_reply": "2024-12-05T22:57:17.867670Z",
     "shell.execute_reply.started": "2024-12-05T22:57:14.373383Z"
    }
   },
   "outputs": [],
   "source": [
    "# Define an input sequence and process it.\n",
    "encoder_inputs = Input(shape=(max_len))\n",
    "x = Embedding(fr_vocab, UNITS)(encoder_inputs)\n",
    "encoder_outputs = Bidirectional(merge_mode='sum', layer=LSTM(UNITS, return_sequences=True,\n",
    "                           return_state=False, dropout=0.2))(x)\n",
    "\n",
    "\n",
    "\n",
    "# Set up the decoder, using `encoder_states` as initial state.\n",
    "decoder_inputs = Input(shape=(max_len))\n",
    "decoder_embeddings = Embedding(en_vocab, UNITS)(decoder_inputs)\n",
    "\n",
    "\n",
    "\n",
    "x = LSTM(UNITS, return_sequences=True, dropout=0.2)(decoder_embeddings, initial_state=None)\n",
    "\n",
    "#Attention \n",
    "attention = MultiHeadAttention(num_heads=4, key_dim=UNITS, dropout=0.2)\n",
    "attention_output, attention_scores = attention(query=x, value=encoder_outputs, return_attention_scores=True)\n",
    "\n",
    "add = Add()\n",
    "normalization = LayerNormalization()\n",
    "\n",
    "attention_seq = add([x, attention_output])\n",
    "attention_seq = normalization(attention_seq)\n",
    "\n",
    "decoder_outputs = Dense(en_vocab)(attention_seq)"
   ]
  },
  {
   "cell_type": "code",
   "execution_count": 64,
   "metadata": {
    "execution": {
     "iopub.execute_input": "2024-12-05T22:57:17.870517Z",
     "iopub.status.busy": "2024-12-05T22:57:17.869869Z",
     "iopub.status.idle": "2024-12-05T22:57:17.911576Z",
     "shell.execute_reply": "2024-12-05T22:57:17.910761Z",
     "shell.execute_reply.started": "2024-12-05T22:57:17.870485Z"
    }
   },
   "outputs": [
    {
     "name": "stdout",
     "output_type": "stream",
     "text": [
      "Model: \"model_2\"\n",
      "__________________________________________________________________________________________________\n",
      " Layer (type)                Output Shape                 Param #   Connected to                  \n",
      "==================================================================================================\n",
      " input_6 (InputLayer)        [(None, 64)]                 0         []                            \n",
      "                                                                                                  \n",
      " input_5 (InputLayer)        [(None, 64)]                 0         []                            \n",
      "                                                                                                  \n",
      " embedding_5 (Embedding)     (None, 64, 1024)             1361100   ['input_6[0][0]']             \n",
      "                                                          8                                       \n",
      "                                                                                                  \n",
      " embedding_4 (Embedding)     (None, 64, 1024)             2641408   ['input_5[0][0]']             \n",
      "                                                          0                                       \n",
      "                                                                                                  \n",
      " lstm_5 (LSTM)               (None, 64, 1024)             8392704   ['embedding_5[0][0]']         \n",
      "                                                                                                  \n",
      " bidirectional_1 (Bidirecti  (None, 64, 1024)             1678540   ['embedding_4[0][0]']         \n",
      " onal)                                                    8                                       \n",
      "                                                                                                  \n",
      " multi_head_attention_1 (Mu  ((None, 64, 1024),           1679052   ['lstm_5[0][0]',              \n",
      " ltiHeadAttention)            (None, 4, 64, 64))          8          'bidirectional_1[0][0]']     \n",
      "                                                                                                  \n",
      " add_1 (Add)                 (None, 64, 1024)             0         ['lstm_5[0][0]',              \n",
      "                                                                     'multi_head_attention_1[0][0]\n",
      "                                                                    ']                            \n",
      "                                                                                                  \n",
      " layer_normalization_1 (Lay  (None, 64, 1024)             2048      ['add_1[0][0]']               \n",
      " erNormalization)                                                                                 \n",
      "                                                                                                  \n",
      " dense_2 (Dense)             (None, 64, 13292)            1362430   ['layer_normalization_1[0][0]'\n",
      "                                                          0         ]                             \n",
      "                                                                                                  \n",
      "==================================================================================================\n",
      "Total params: 95620076 (364.76 MB)\n",
      "Trainable params: 95620076 (364.76 MB)\n",
      "Non-trainable params: 0 (0.00 Byte)\n",
      "__________________________________________________________________________________________________\n"
     ]
    }
   ],
   "source": [
    "# Define the model that will turn\n",
    "# `encoder_input_data` & `decoder_input_data` into `decoder_target_data`\n",
    "model_MHA = Model([encoder_inputs, decoder_inputs], decoder_outputs)\n",
    "model_MHA.summary()"
   ]
  },
  {
   "cell_type": "code",
   "execution_count": 65,
   "metadata": {
    "execution": {
     "iopub.execute_input": "2024-12-05T22:57:17.912823Z",
     "iopub.status.busy": "2024-12-05T22:57:17.912579Z",
     "iopub.status.idle": "2024-12-05T22:57:17.924968Z",
     "shell.execute_reply": "2024-12-05T22:57:17.924209Z",
     "shell.execute_reply.started": "2024-12-05T22:57:17.912803Z"
    }
   },
   "outputs": [],
   "source": [
    "model_MHA.compile(optimizer='adam', loss=masked_loss, metrics=[masked_acc, masked_loss])"
   ]
  },
  {
   "cell_type": "code",
   "execution_count": 66,
   "metadata": {
    "execution": {
     "iopub.execute_input": "2024-12-05T22:57:17.926091Z",
     "iopub.status.busy": "2024-12-05T22:57:17.925840Z",
     "iopub.status.idle": "2024-12-06T00:26:42.330123Z",
     "shell.execute_reply": "2024-12-06T00:26:42.329129Z",
     "shell.execute_reply.started": "2024-12-05T22:57:17.926070Z"
    }
   },
   "outputs": [
    {
     "name": "stdout",
     "output_type": "stream",
     "text": [
      "Epoch 1/10\n",
      "549/549 [==============================] - 542s 977ms/step - loss: 4.1088 - masked_acc: 0.3328 - masked_loss: 4.1084 - val_loss: 2.9944 - val_masked_acc: 0.4824 - val_masked_loss: 2.9946\n",
      "Epoch 2/10\n",
      "549/549 [==============================] - 536s 976ms/step - loss: 2.2483 - masked_acc: 0.5973 - masked_loss: 2.2482 - val_loss: 1.6119 - val_masked_acc: 0.7071 - val_masked_loss: 1.6127\n",
      "Epoch 3/10\n",
      "549/549 [==============================] - 536s 976ms/step - loss: 1.3451 - masked_acc: 0.7379 - masked_loss: 1.3451 - val_loss: 1.2484 - val_masked_acc: 0.7673 - val_masked_loss: 1.2493\n",
      "Epoch 4/10\n",
      "549/549 [==============================] - 536s 976ms/step - loss: 0.9741 - masked_acc: 0.7924 - masked_loss: 0.9741 - val_loss: 1.1048 - val_masked_acc: 0.7911 - val_masked_loss: 1.1058\n",
      "Epoch 5/10\n",
      "549/549 [==============================] - 536s 976ms/step - loss: 0.7666 - masked_acc: 0.8250 - masked_loss: 0.7666 - val_loss: 1.0596 - val_masked_acc: 0.8055 - val_masked_loss: 1.0604\n",
      "Epoch 6/10\n",
      "549/549 [==============================] - 536s 976ms/step - loss: 0.6278 - masked_acc: 0.8492 - masked_loss: 0.6278 - val_loss: 1.0432 - val_masked_acc: 0.8163 - val_masked_loss: 1.0445\n",
      "Epoch 7/10\n",
      "549/549 [==============================] - 536s 976ms/step - loss: 0.5249 - masked_acc: 0.8689 - masked_loss: 0.5249 - val_loss: 1.0451 - val_masked_acc: 0.8225 - val_masked_loss: 1.0466\n",
      "Epoch 8/10\n",
      "549/549 [==============================] - 536s 976ms/step - loss: 0.4461 - masked_acc: 0.8847 - masked_loss: 0.4461 - val_loss: 1.0631 - val_masked_acc: 0.8276 - val_masked_loss: 1.0649\n",
      "Epoch 9/10\n",
      "549/549 [==============================] - 536s 976ms/step - loss: 0.3836 - masked_acc: 0.8977 - masked_loss: 0.3836 - val_loss: 1.0827 - val_masked_acc: 0.8309 - val_masked_loss: 1.0844\n",
      "Epoch 10/10\n",
      "549/549 [==============================] - 536s 976ms/step - loss: 0.3312 - masked_acc: 0.9092 - masked_loss: 0.3312 - val_loss: 1.0852 - val_masked_acc: 0.8321 - val_masked_loss: 1.0872\n"
     ]
    }
   ],
   "source": [
    "history_MHA = model_MHA.fit([query_pad_train, value_pad_train], value_shifted_pad_train,\n",
    "          batch_size=BATCH_SIZE,\n",
    "          epochs=EPOCHS,\n",
    "          validation_data=([query_pad_valid, value_pad_valid], value_shifted_pad_valid)\n",
    "                   )"
   ]
  },
  {
   "cell_type": "code",
   "execution_count": 67,
   "metadata": {
    "execution": {
     "iopub.execute_input": "2024-12-06T00:26:42.336974Z",
     "iopub.status.busy": "2024-12-06T00:26:42.336701Z",
     "iopub.status.idle": "2024-12-06T00:26:42.727072Z",
     "shell.execute_reply": "2024-12-06T00:26:42.726226Z",
     "shell.execute_reply.started": "2024-12-06T00:26:42.336952Z"
    }
   },
   "outputs": [
    {
     "data": {
      "text/plain": [
       "<matplotlib.legend.Legend at 0x7b67d46ad4e0>"
      ]
     },
     "execution_count": 67,
     "metadata": {},
     "output_type": "execute_result"
    },
    {
     "data": {
      "image/png": "[encoded data removed]",
      "text/plain": [
       "<Figure size 640x480 with 2 Axes>"
      ]
     },
     "metadata": {},
     "output_type": "display_data"
    }
   ],
   "source": [
    "plt.subplot(1, 2, 1)\n",
    "plt.plot(history_MHA.history['loss'], label='loss')\n",
    "plt.plot(history_A.history['val_loss'], label='val_loss')\n",
    "plt.ylim([0, max(plt.ylim())])\n",
    "plt.xlabel('Epoch #')\n",
    "plt.ylabel('Loss')\n",
    "plt.legend()\n",
    "\n",
    "plt.subplot(1, 2, 2)\n",
    "plt.plot(history_MHA.history['masked_acc'], label='accuracy')\n",
    "plt.plot(history_MHA.history['val_masked_acc'], label='val_accuracy')\n",
    "plt.ylim([0, max(plt.ylim())])\n",
    "plt.xlabel('Epoch #')\n",
    "plt.ylabel('Accuracy')\n",
    "plt.legend()"
   ]
  },
  {
   "cell_type": "code",
   "execution_count": null,
   "metadata": {
    "execution": {
     "iopub.execute_input": "2024-12-06T00:26:42.731986Z",
     "iopub.status.busy": "2024-12-06T00:26:42.731410Z",
     "iopub.status.idle": "2024-12-06T00:26:44.016354Z"
    }
   },
   "outputs": [
    {
     "name": "stdout",
     "output_type": "stream",
     "text": [
      "how are you doing ?\n"
     ]
    }
   ],
   "source": [
    "#How are you?\n",
    "sent_fr = \"Comment vas-tu ?\" \n",
    "predict(sent_fr, model=model_MHA)"
   ]
  },
  {
   "cell_type": "code",
   "execution_count": null,
   "metadata": {
    "execution": {
     "iopub.execute_input": "2024-12-06T00:26:44.017734Z",
     "iopub.status.busy": "2024-12-06T00:26:44.017478Z",
     "iopub.status.idle": "2024-12-06T00:26:44.351667Z"
    }
   },
   "outputs": [
    {
     "name": "stdout",
     "output_type": "stream",
     "text": [
      "i 'm fine .\n"
     ]
    }
   ],
   "source": [
    "#I'm fine.\n",
    "sent_fr = \"Je vais bien.\" \n",
    "predict(sent_fr, model=model_MHA)"
   ]
  },
  {
   "cell_type": "code",
   "execution_count": null,
   "metadata": {
    "execution": {
     "iopub.execute_input": "2024-12-06T00:26:44.353491Z",
     "iopub.status.busy": "2024-12-06T00:26:44.353206Z",
     "iopub.status.idle": "2024-12-06T00:26:45.390048Z"
    }
   },
   "outputs": [
    {
     "name": "stdout",
     "output_type": "stream",
     "text": [
      "i will go money at the bakery , then i 'll go shopping .\n"
     ]
    }
   ],
   "source": [
    "#Tomorrow I will go buy some bread at backery, then I will go buy groceries.\n",
    "sent_fr = \"Demain j'irai acheter du pain à la boulangerie, puis j'irai faire les courses.\" \n",
    "predict(sent_fr, model=model_MHA)"
   ]
  },
  {
   "cell_type": "code",
   "execution_count": null,
   "metadata": {
    "execution": {
     "iopub.execute_input": "2024-12-06T00:26:45.391498Z",
     "iopub.status.busy": "2024-12-06T00:26:45.391194Z",
     "iopub.status.idle": "2024-12-06T00:27:38.616475Z"
    }
   },
   "outputs": [],
   "source": [
    "list_BLEU = [BLEU(predict(query_pad_valid[i], model=model_MHA, return_sent=True, pad_sent=True, print_gen=False), value_shifted_pad_valid[i]) for i in  random_list]"
   ]
  },
  {
   "cell_type": "code",
   "execution_count": null,
   "metadata": {
    "execution": {
     "iopub.execute_input": "2024-12-06T00:27:38.617703Z",
     "iopub.status.busy": "2024-12-06T00:27:38.617450Z",
     "iopub.status.idle": "2024-12-06T00:27:38.769627Z"
    }
   },
   "outputs": [
    {
     "data": {
      "text/plain": [
       "Text(0, 0.5, 'BLEU')"
      ]
     },
     "execution_count": 72,
     "metadata": {},
     "output_type": "execute_result"
    },
    {
     "data": {
      "image/png": "[encoded data removed]",
      "text/plain": [
       "<Figure size 640x480 with 1 Axes>"
      ]
     },
     "metadata": {},
     "output_type": "display_data"
    }
   ],
   "source": [
    "plt.plot(len_list, list_BLEU)\n",
    "plt.ylim([0, max(plt.ylim())])\n",
    "plt.xlabel('Length')\n",
    "plt.ylabel('BLEU')"
   ]
  }
 ],
 "metadata": {
  "kaggle": {
   "accelerator": "gpu",
   "dataSources": [
    {
     "datasetId": 592212,
     "sourceId": 1067156,
     "sourceType": "datasetVersion"
    }
   ],
   "dockerImageVersionId": 30580,
   "isGpuEnabled": true,
   "isInternetEnabled": true,
   "language": "python",
   "sourceType": "notebook"
  },
  "kernelspec": {
   "display_name": "Python 3 (ipykernel)",
   "language": "python",
   "name": "python3"
  },
  "language_info": {
   "codemirror_mode": {
    "name": "ipython",
    "version": 3
   },
   "file_extension": ".py",
   "mimetype": "text/x-python",
   "name": "python",
   "nbconvert_exporter": "python",
   "pygments_lexer": "ipython3",
   "version": "3.11.5"
  }
 },
 "nbformat": 4,
 "nbformat_minor": 4
}
